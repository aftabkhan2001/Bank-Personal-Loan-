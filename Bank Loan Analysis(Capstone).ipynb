{
 "cells": [
  {
   "cell_type": "markdown",
   "metadata": {
    "id": "5pnuFH2aqNnH"
   },
   "source": [
    "# IMPORTS\n",
    "\n",
    "**------------------------------------------------------------------------------------------------------------------------------------------------------------------------------------------------------------------**\n",
    "\n"
   ]
  },
  {
   "cell_type": "code",
   "execution_count": 1,
   "metadata": {
    "executionInfo": {
     "elapsed": 2663,
     "status": "ok",
     "timestamp": 1700459275096,
     "user": {
      "displayName": "aftab khan",
      "userId": "08536307679373305907"
     },
     "user_tz": -330
    },
    "id": "-0464oeDqEPB"
   },
   "outputs": [],
   "source": [
    "import pandas as pd\n",
    "import numpy as np\n",
    "import matplotlib.pyplot as plt\n",
    "import seaborn as sns\n",
    "from imblearn.over_sampling import SMOTE\n",
    "from sklearn.model_selection import train_test_split\n",
    "from sklearn.preprocessing import StandardScaler\n",
    "from sklearn.linear_model import LogisticRegression\n",
    "from sklearn.naive_bayes import GaussianNB\n",
    "from sklearn.svm import SVC\n",
    "from sklearn.metrics import confusion_matrix, accuracy_score, precision_score, recall_score, f1_score,classification_report\n",
    "import warnings\n",
    "warnings.filterwarnings(\"ignore\")"
   ]
  },
  {
   "cell_type": "markdown",
   "metadata": {
    "id": "9ldvF8GHqdA4"
   },
   "source": [
    "# READ THE DATA\n",
    "\n",
    "**------------------------------------------------------------------------------------------------------------------------------------------------------------------------------------------------------------------**\n",
    "\n",
    "\n",
    "\n",
    "\n",
    "\n",
    "\n"
   ]
  },
  {
   "cell_type": "code",
   "execution_count": 2,
   "metadata": {
    "executionInfo": {
     "elapsed": 40,
     "status": "ok",
     "timestamp": 1700459305232,
     "user": {
      "displayName": "aftab khan",
      "userId": "08536307679373305907"
     },
     "user_tz": -330
    },
    "id": "INLty3bTqksm"
   },
   "outputs": [],
   "source": [
    "df=pd.read_csv(\"Bank_Personal_Loan_Modelling.csv\")"
   ]
  },
  {
   "cell_type": "code",
   "execution_count": 3,
   "metadata": {
    "colab": {
     "base_uri": "https://localhost:8080/",
     "height": 424
    },
    "executionInfo": {
     "elapsed": 38,
     "status": "ok",
     "timestamp": 1700459305233,
     "user": {
      "displayName": "aftab khan",
      "userId": "08536307679373305907"
     },
     "user_tz": -330
    },
    "id": "ZFwKFMBIqpms",
    "outputId": "23512859-7e81-4e51-fc88-3561e4139da1",
    "scrolled": false
   },
   "outputs": [
    {
     "data": {
      "text/html": [
       "<div>\n",
       "<style scoped>\n",
       "    .dataframe tbody tr th:only-of-type {\n",
       "        vertical-align: middle;\n",
       "    }\n",
       "\n",
       "    .dataframe tbody tr th {\n",
       "        vertical-align: top;\n",
       "    }\n",
       "\n",
       "    .dataframe thead th {\n",
       "        text-align: right;\n",
       "    }\n",
       "</style>\n",
       "<table border=\"1\" class=\"dataframe\">\n",
       "  <thead>\n",
       "    <tr style=\"text-align: right;\">\n",
       "      <th></th>\n",
       "      <th>ID</th>\n",
       "      <th>Age</th>\n",
       "      <th>Experience</th>\n",
       "      <th>Income</th>\n",
       "      <th>ZIP Code</th>\n",
       "      <th>Family</th>\n",
       "      <th>CCAvg</th>\n",
       "      <th>Education</th>\n",
       "      <th>Mortgage</th>\n",
       "      <th>Personal Loan</th>\n",
       "      <th>Securities Account</th>\n",
       "      <th>CD Account</th>\n",
       "      <th>Online</th>\n",
       "      <th>CreditCard</th>\n",
       "    </tr>\n",
       "  </thead>\n",
       "  <tbody>\n",
       "    <tr>\n",
       "      <th>0</th>\n",
       "      <td>1</td>\n",
       "      <td>25</td>\n",
       "      <td>1</td>\n",
       "      <td>49</td>\n",
       "      <td>91107</td>\n",
       "      <td>4</td>\n",
       "      <td>1.6</td>\n",
       "      <td>1</td>\n",
       "      <td>0</td>\n",
       "      <td>0</td>\n",
       "      <td>1</td>\n",
       "      <td>0</td>\n",
       "      <td>0</td>\n",
       "      <td>0</td>\n",
       "    </tr>\n",
       "    <tr>\n",
       "      <th>1</th>\n",
       "      <td>2</td>\n",
       "      <td>45</td>\n",
       "      <td>19</td>\n",
       "      <td>34</td>\n",
       "      <td>90089</td>\n",
       "      <td>3</td>\n",
       "      <td>1.5</td>\n",
       "      <td>1</td>\n",
       "      <td>0</td>\n",
       "      <td>0</td>\n",
       "      <td>1</td>\n",
       "      <td>0</td>\n",
       "      <td>0</td>\n",
       "      <td>0</td>\n",
       "    </tr>\n",
       "    <tr>\n",
       "      <th>2</th>\n",
       "      <td>3</td>\n",
       "      <td>39</td>\n",
       "      <td>15</td>\n",
       "      <td>11</td>\n",
       "      <td>94720</td>\n",
       "      <td>1</td>\n",
       "      <td>1.0</td>\n",
       "      <td>1</td>\n",
       "      <td>0</td>\n",
       "      <td>0</td>\n",
       "      <td>0</td>\n",
       "      <td>0</td>\n",
       "      <td>0</td>\n",
       "      <td>0</td>\n",
       "    </tr>\n",
       "    <tr>\n",
       "      <th>3</th>\n",
       "      <td>4</td>\n",
       "      <td>35</td>\n",
       "      <td>9</td>\n",
       "      <td>100</td>\n",
       "      <td>94112</td>\n",
       "      <td>1</td>\n",
       "      <td>2.7</td>\n",
       "      <td>2</td>\n",
       "      <td>0</td>\n",
       "      <td>0</td>\n",
       "      <td>0</td>\n",
       "      <td>0</td>\n",
       "      <td>0</td>\n",
       "      <td>0</td>\n",
       "    </tr>\n",
       "    <tr>\n",
       "      <th>4</th>\n",
       "      <td>5</td>\n",
       "      <td>35</td>\n",
       "      <td>8</td>\n",
       "      <td>45</td>\n",
       "      <td>91330</td>\n",
       "      <td>4</td>\n",
       "      <td>1.0</td>\n",
       "      <td>2</td>\n",
       "      <td>0</td>\n",
       "      <td>0</td>\n",
       "      <td>0</td>\n",
       "      <td>0</td>\n",
       "      <td>0</td>\n",
       "      <td>1</td>\n",
       "    </tr>\n",
       "    <tr>\n",
       "      <th>...</th>\n",
       "      <td>...</td>\n",
       "      <td>...</td>\n",
       "      <td>...</td>\n",
       "      <td>...</td>\n",
       "      <td>...</td>\n",
       "      <td>...</td>\n",
       "      <td>...</td>\n",
       "      <td>...</td>\n",
       "      <td>...</td>\n",
       "      <td>...</td>\n",
       "      <td>...</td>\n",
       "      <td>...</td>\n",
       "      <td>...</td>\n",
       "      <td>...</td>\n",
       "    </tr>\n",
       "    <tr>\n",
       "      <th>4995</th>\n",
       "      <td>4996</td>\n",
       "      <td>29</td>\n",
       "      <td>3</td>\n",
       "      <td>40</td>\n",
       "      <td>92697</td>\n",
       "      <td>1</td>\n",
       "      <td>1.9</td>\n",
       "      <td>3</td>\n",
       "      <td>0</td>\n",
       "      <td>0</td>\n",
       "      <td>0</td>\n",
       "      <td>0</td>\n",
       "      <td>1</td>\n",
       "      <td>0</td>\n",
       "    </tr>\n",
       "    <tr>\n",
       "      <th>4996</th>\n",
       "      <td>4997</td>\n",
       "      <td>30</td>\n",
       "      <td>4</td>\n",
       "      <td>15</td>\n",
       "      <td>92037</td>\n",
       "      <td>4</td>\n",
       "      <td>0.4</td>\n",
       "      <td>1</td>\n",
       "      <td>85</td>\n",
       "      <td>0</td>\n",
       "      <td>0</td>\n",
       "      <td>0</td>\n",
       "      <td>1</td>\n",
       "      <td>0</td>\n",
       "    </tr>\n",
       "    <tr>\n",
       "      <th>4997</th>\n",
       "      <td>4998</td>\n",
       "      <td>63</td>\n",
       "      <td>39</td>\n",
       "      <td>24</td>\n",
       "      <td>93023</td>\n",
       "      <td>2</td>\n",
       "      <td>0.3</td>\n",
       "      <td>3</td>\n",
       "      <td>0</td>\n",
       "      <td>0</td>\n",
       "      <td>0</td>\n",
       "      <td>0</td>\n",
       "      <td>0</td>\n",
       "      <td>0</td>\n",
       "    </tr>\n",
       "    <tr>\n",
       "      <th>4998</th>\n",
       "      <td>4999</td>\n",
       "      <td>65</td>\n",
       "      <td>40</td>\n",
       "      <td>49</td>\n",
       "      <td>90034</td>\n",
       "      <td>3</td>\n",
       "      <td>0.5</td>\n",
       "      <td>2</td>\n",
       "      <td>0</td>\n",
       "      <td>0</td>\n",
       "      <td>0</td>\n",
       "      <td>0</td>\n",
       "      <td>1</td>\n",
       "      <td>0</td>\n",
       "    </tr>\n",
       "    <tr>\n",
       "      <th>4999</th>\n",
       "      <td>5000</td>\n",
       "      <td>28</td>\n",
       "      <td>4</td>\n",
       "      <td>83</td>\n",
       "      <td>92612</td>\n",
       "      <td>3</td>\n",
       "      <td>0.8</td>\n",
       "      <td>1</td>\n",
       "      <td>0</td>\n",
       "      <td>0</td>\n",
       "      <td>0</td>\n",
       "      <td>0</td>\n",
       "      <td>1</td>\n",
       "      <td>1</td>\n",
       "    </tr>\n",
       "  </tbody>\n",
       "</table>\n",
       "<p>5000 rows × 14 columns</p>\n",
       "</div>"
      ],
      "text/plain": [
       "        ID  Age  Experience  Income  ZIP Code  Family  CCAvg  Education  \\\n",
       "0        1   25           1      49     91107       4    1.6          1   \n",
       "1        2   45          19      34     90089       3    1.5          1   \n",
       "2        3   39          15      11     94720       1    1.0          1   \n",
       "3        4   35           9     100     94112       1    2.7          2   \n",
       "4        5   35           8      45     91330       4    1.0          2   \n",
       "...    ...  ...         ...     ...       ...     ...    ...        ...   \n",
       "4995  4996   29           3      40     92697       1    1.9          3   \n",
       "4996  4997   30           4      15     92037       4    0.4          1   \n",
       "4997  4998   63          39      24     93023       2    0.3          3   \n",
       "4998  4999   65          40      49     90034       3    0.5          2   \n",
       "4999  5000   28           4      83     92612       3    0.8          1   \n",
       "\n",
       "      Mortgage  Personal Loan  Securities Account  CD Account  Online  \\\n",
       "0            0              0                   1           0       0   \n",
       "1            0              0                   1           0       0   \n",
       "2            0              0                   0           0       0   \n",
       "3            0              0                   0           0       0   \n",
       "4            0              0                   0           0       0   \n",
       "...        ...            ...                 ...         ...     ...   \n",
       "4995         0              0                   0           0       1   \n",
       "4996        85              0                   0           0       1   \n",
       "4997         0              0                   0           0       0   \n",
       "4998         0              0                   0           0       1   \n",
       "4999         0              0                   0           0       1   \n",
       "\n",
       "      CreditCard  \n",
       "0              0  \n",
       "1              0  \n",
       "2              0  \n",
       "3              0  \n",
       "4              1  \n",
       "...          ...  \n",
       "4995           0  \n",
       "4996           0  \n",
       "4997           0  \n",
       "4998           0  \n",
       "4999           1  \n",
       "\n",
       "[5000 rows x 14 columns]"
      ]
     },
     "execution_count": 3,
     "metadata": {},
     "output_type": "execute_result"
    }
   ],
   "source": [
    "df"
   ]
  },
  {
   "cell_type": "markdown",
   "metadata": {
    "id": "XFoJJ5oMqvrC"
   },
   "source": [
    "# EXPLORATORY DATA ANALYSIS\n",
    "\n",
    "**------------------------------------------------------------------------------------------------------------------------------------------------------------------------------------------------------------------**\n",
    "\n"
   ]
  },
  {
   "cell_type": "code",
   "execution_count": 4,
   "metadata": {
    "colab": {
     "base_uri": "https://localhost:8080/",
     "height": 206
    },
    "executionInfo": {
     "elapsed": 35,
     "status": "ok",
     "timestamp": 1700459305233,
     "user": {
      "displayName": "aftab khan",
      "userId": "08536307679373305907"
     },
     "user_tz": -330
    },
    "id": "ROBv4Oayq5Ay",
    "outputId": "2cf801c7-ba65-49ab-fee7-e4d7dd27c4e2"
   },
   "outputs": [
    {
     "data": {
      "text/html": [
       "<div>\n",
       "<style scoped>\n",
       "    .dataframe tbody tr th:only-of-type {\n",
       "        vertical-align: middle;\n",
       "    }\n",
       "\n",
       "    .dataframe tbody tr th {\n",
       "        vertical-align: top;\n",
       "    }\n",
       "\n",
       "    .dataframe thead th {\n",
       "        text-align: right;\n",
       "    }\n",
       "</style>\n",
       "<table border=\"1\" class=\"dataframe\">\n",
       "  <thead>\n",
       "    <tr style=\"text-align: right;\">\n",
       "      <th></th>\n",
       "      <th>ID</th>\n",
       "      <th>Age</th>\n",
       "      <th>Experience</th>\n",
       "      <th>Income</th>\n",
       "      <th>ZIP Code</th>\n",
       "      <th>Family</th>\n",
       "      <th>CCAvg</th>\n",
       "      <th>Education</th>\n",
       "      <th>Mortgage</th>\n",
       "      <th>Personal Loan</th>\n",
       "      <th>Securities Account</th>\n",
       "      <th>CD Account</th>\n",
       "      <th>Online</th>\n",
       "      <th>CreditCard</th>\n",
       "    </tr>\n",
       "  </thead>\n",
       "  <tbody>\n",
       "    <tr>\n",
       "      <th>0</th>\n",
       "      <td>1</td>\n",
       "      <td>25</td>\n",
       "      <td>1</td>\n",
       "      <td>49</td>\n",
       "      <td>91107</td>\n",
       "      <td>4</td>\n",
       "      <td>1.6</td>\n",
       "      <td>1</td>\n",
       "      <td>0</td>\n",
       "      <td>0</td>\n",
       "      <td>1</td>\n",
       "      <td>0</td>\n",
       "      <td>0</td>\n",
       "      <td>0</td>\n",
       "    </tr>\n",
       "    <tr>\n",
       "      <th>1</th>\n",
       "      <td>2</td>\n",
       "      <td>45</td>\n",
       "      <td>19</td>\n",
       "      <td>34</td>\n",
       "      <td>90089</td>\n",
       "      <td>3</td>\n",
       "      <td>1.5</td>\n",
       "      <td>1</td>\n",
       "      <td>0</td>\n",
       "      <td>0</td>\n",
       "      <td>1</td>\n",
       "      <td>0</td>\n",
       "      <td>0</td>\n",
       "      <td>0</td>\n",
       "    </tr>\n",
       "    <tr>\n",
       "      <th>2</th>\n",
       "      <td>3</td>\n",
       "      <td>39</td>\n",
       "      <td>15</td>\n",
       "      <td>11</td>\n",
       "      <td>94720</td>\n",
       "      <td>1</td>\n",
       "      <td>1.0</td>\n",
       "      <td>1</td>\n",
       "      <td>0</td>\n",
       "      <td>0</td>\n",
       "      <td>0</td>\n",
       "      <td>0</td>\n",
       "      <td>0</td>\n",
       "      <td>0</td>\n",
       "    </tr>\n",
       "    <tr>\n",
       "      <th>3</th>\n",
       "      <td>4</td>\n",
       "      <td>35</td>\n",
       "      <td>9</td>\n",
       "      <td>100</td>\n",
       "      <td>94112</td>\n",
       "      <td>1</td>\n",
       "      <td>2.7</td>\n",
       "      <td>2</td>\n",
       "      <td>0</td>\n",
       "      <td>0</td>\n",
       "      <td>0</td>\n",
       "      <td>0</td>\n",
       "      <td>0</td>\n",
       "      <td>0</td>\n",
       "    </tr>\n",
       "    <tr>\n",
       "      <th>4</th>\n",
       "      <td>5</td>\n",
       "      <td>35</td>\n",
       "      <td>8</td>\n",
       "      <td>45</td>\n",
       "      <td>91330</td>\n",
       "      <td>4</td>\n",
       "      <td>1.0</td>\n",
       "      <td>2</td>\n",
       "      <td>0</td>\n",
       "      <td>0</td>\n",
       "      <td>0</td>\n",
       "      <td>0</td>\n",
       "      <td>0</td>\n",
       "      <td>1</td>\n",
       "    </tr>\n",
       "  </tbody>\n",
       "</table>\n",
       "</div>"
      ],
      "text/plain": [
       "   ID  Age  Experience  Income  ZIP Code  Family  CCAvg  Education  Mortgage  \\\n",
       "0   1   25           1      49     91107       4    1.6          1         0   \n",
       "1   2   45          19      34     90089       3    1.5          1         0   \n",
       "2   3   39          15      11     94720       1    1.0          1         0   \n",
       "3   4   35           9     100     94112       1    2.7          2         0   \n",
       "4   5   35           8      45     91330       4    1.0          2         0   \n",
       "\n",
       "   Personal Loan  Securities Account  CD Account  Online  CreditCard  \n",
       "0              0                   1           0       0           0  \n",
       "1              0                   1           0       0           0  \n",
       "2              0                   0           0       0           0  \n",
       "3              0                   0           0       0           0  \n",
       "4              0                   0           0       0           1  "
      ]
     },
     "execution_count": 4,
     "metadata": {},
     "output_type": "execute_result"
    }
   ],
   "source": [
    "#CHECK THE FIRST FIVE ROWS\n",
    "df.head()"
   ]
  },
  {
   "cell_type": "code",
   "execution_count": 5,
   "metadata": {
    "colab": {
     "base_uri": "https://localhost:8080/",
     "height": 206
    },
    "executionInfo": {
     "elapsed": 33,
     "status": "ok",
     "timestamp": 1700459305233,
     "user": {
      "displayName": "aftab khan",
      "userId": "08536307679373305907"
     },
     "user_tz": -330
    },
    "id": "xmjP4wtRq9Du",
    "outputId": "b1dad868-402d-414e-ba5d-4907b3a32c7d"
   },
   "outputs": [
    {
     "data": {
      "text/html": [
       "<div>\n",
       "<style scoped>\n",
       "    .dataframe tbody tr th:only-of-type {\n",
       "        vertical-align: middle;\n",
       "    }\n",
       "\n",
       "    .dataframe tbody tr th {\n",
       "        vertical-align: top;\n",
       "    }\n",
       "\n",
       "    .dataframe thead th {\n",
       "        text-align: right;\n",
       "    }\n",
       "</style>\n",
       "<table border=\"1\" class=\"dataframe\">\n",
       "  <thead>\n",
       "    <tr style=\"text-align: right;\">\n",
       "      <th></th>\n",
       "      <th>ID</th>\n",
       "      <th>Age</th>\n",
       "      <th>Experience</th>\n",
       "      <th>Income</th>\n",
       "      <th>ZIP Code</th>\n",
       "      <th>Family</th>\n",
       "      <th>CCAvg</th>\n",
       "      <th>Education</th>\n",
       "      <th>Mortgage</th>\n",
       "      <th>Personal Loan</th>\n",
       "      <th>Securities Account</th>\n",
       "      <th>CD Account</th>\n",
       "      <th>Online</th>\n",
       "      <th>CreditCard</th>\n",
       "    </tr>\n",
       "  </thead>\n",
       "  <tbody>\n",
       "    <tr>\n",
       "      <th>4995</th>\n",
       "      <td>4996</td>\n",
       "      <td>29</td>\n",
       "      <td>3</td>\n",
       "      <td>40</td>\n",
       "      <td>92697</td>\n",
       "      <td>1</td>\n",
       "      <td>1.9</td>\n",
       "      <td>3</td>\n",
       "      <td>0</td>\n",
       "      <td>0</td>\n",
       "      <td>0</td>\n",
       "      <td>0</td>\n",
       "      <td>1</td>\n",
       "      <td>0</td>\n",
       "    </tr>\n",
       "    <tr>\n",
       "      <th>4996</th>\n",
       "      <td>4997</td>\n",
       "      <td>30</td>\n",
       "      <td>4</td>\n",
       "      <td>15</td>\n",
       "      <td>92037</td>\n",
       "      <td>4</td>\n",
       "      <td>0.4</td>\n",
       "      <td>1</td>\n",
       "      <td>85</td>\n",
       "      <td>0</td>\n",
       "      <td>0</td>\n",
       "      <td>0</td>\n",
       "      <td>1</td>\n",
       "      <td>0</td>\n",
       "    </tr>\n",
       "    <tr>\n",
       "      <th>4997</th>\n",
       "      <td>4998</td>\n",
       "      <td>63</td>\n",
       "      <td>39</td>\n",
       "      <td>24</td>\n",
       "      <td>93023</td>\n",
       "      <td>2</td>\n",
       "      <td>0.3</td>\n",
       "      <td>3</td>\n",
       "      <td>0</td>\n",
       "      <td>0</td>\n",
       "      <td>0</td>\n",
       "      <td>0</td>\n",
       "      <td>0</td>\n",
       "      <td>0</td>\n",
       "    </tr>\n",
       "    <tr>\n",
       "      <th>4998</th>\n",
       "      <td>4999</td>\n",
       "      <td>65</td>\n",
       "      <td>40</td>\n",
       "      <td>49</td>\n",
       "      <td>90034</td>\n",
       "      <td>3</td>\n",
       "      <td>0.5</td>\n",
       "      <td>2</td>\n",
       "      <td>0</td>\n",
       "      <td>0</td>\n",
       "      <td>0</td>\n",
       "      <td>0</td>\n",
       "      <td>1</td>\n",
       "      <td>0</td>\n",
       "    </tr>\n",
       "    <tr>\n",
       "      <th>4999</th>\n",
       "      <td>5000</td>\n",
       "      <td>28</td>\n",
       "      <td>4</td>\n",
       "      <td>83</td>\n",
       "      <td>92612</td>\n",
       "      <td>3</td>\n",
       "      <td>0.8</td>\n",
       "      <td>1</td>\n",
       "      <td>0</td>\n",
       "      <td>0</td>\n",
       "      <td>0</td>\n",
       "      <td>0</td>\n",
       "      <td>1</td>\n",
       "      <td>1</td>\n",
       "    </tr>\n",
       "  </tbody>\n",
       "</table>\n",
       "</div>"
      ],
      "text/plain": [
       "        ID  Age  Experience  Income  ZIP Code  Family  CCAvg  Education  \\\n",
       "4995  4996   29           3      40     92697       1    1.9          3   \n",
       "4996  4997   30           4      15     92037       4    0.4          1   \n",
       "4997  4998   63          39      24     93023       2    0.3          3   \n",
       "4998  4999   65          40      49     90034       3    0.5          2   \n",
       "4999  5000   28           4      83     92612       3    0.8          1   \n",
       "\n",
       "      Mortgage  Personal Loan  Securities Account  CD Account  Online  \\\n",
       "4995         0              0                   0           0       1   \n",
       "4996        85              0                   0           0       1   \n",
       "4997         0              0                   0           0       0   \n",
       "4998         0              0                   0           0       1   \n",
       "4999         0              0                   0           0       1   \n",
       "\n",
       "      CreditCard  \n",
       "4995           0  \n",
       "4996           0  \n",
       "4997           0  \n",
       "4998           0  \n",
       "4999           1  "
      ]
     },
     "execution_count": 5,
     "metadata": {},
     "output_type": "execute_result"
    }
   ],
   "source": [
    "#CHECK THE LAST FIVE ROWS \n",
    "df.tail()"
   ]
  },
  {
   "cell_type": "code",
   "execution_count": 6,
   "metadata": {
    "colab": {
     "base_uri": "https://localhost:8080/"
    },
    "executionInfo": {
     "elapsed": 31,
     "status": "ok",
     "timestamp": 1700459305233,
     "user": {
      "displayName": "aftab khan",
      "userId": "08536307679373305907"
     },
     "user_tz": -330
    },
    "id": "Igy36_kvq_tQ",
    "outputId": "395fb46f-4a79-4c9e-c094-1ad3e5559b5c"
   },
   "outputs": [
    {
     "data": {
      "text/plain": [
       "(5000, 14)"
      ]
     },
     "execution_count": 6,
     "metadata": {},
     "output_type": "execute_result"
    }
   ],
   "source": [
    "# SHAPE OF OUR DATASETS \n",
    "df.shape"
   ]
  },
  {
   "cell_type": "code",
   "execution_count": 7,
   "metadata": {},
   "outputs": [
    {
     "name": "stdout",
     "output_type": "stream",
     "text": [
      "Numbers Of Rows 5000\n",
      "Numbers Of Columns 14\n"
     ]
    }
   ],
   "source": [
    "print(\"Numbers Of Rows\",df.shape[0])\n",
    "print(\"Numbers Of Columns\",df.shape[1])"
   ]
  },
  {
   "cell_type": "code",
   "execution_count": 8,
   "metadata": {
    "scrolled": true
   },
   "outputs": [
    {
     "data": {
      "text/plain": [
       "ID                    0\n",
       "Age                   0\n",
       "Experience            0\n",
       "Income                0\n",
       "ZIP Code              0\n",
       "Family                0\n",
       "CCAvg                 0\n",
       "Education             0\n",
       "Mortgage              0\n",
       "Personal Loan         0\n",
       "Securities Account    0\n",
       "CD Account            0\n",
       "Online                0\n",
       "CreditCard            0\n",
       "dtype: int64"
      ]
     },
     "execution_count": 8,
     "metadata": {},
     "output_type": "execute_result"
    }
   ],
   "source": [
    "# CHECKING NULL VALUES IN THE DATASETS\n",
    "df.isna().sum()"
   ]
  },
  {
   "cell_type": "markdown",
   "metadata": {},
   "source": [
    "1. **There is no null values in this datasets.**\n"
   ]
  },
  {
   "cell_type": "code",
   "execution_count": 9,
   "metadata": {},
   "outputs": [
    {
     "data": {
      "text/plain": [
       "0"
      ]
     },
     "execution_count": 9,
     "metadata": {},
     "output_type": "execute_result"
    }
   ],
   "source": [
    "#CHECKING DUPLICATES VALUES IN THE DATASETS\n",
    "df.duplicated().sum()"
   ]
  },
  {
   "cell_type": "markdown",
   "metadata": {},
   "source": [
    "1. **There is no duplicates values in the data.**\n",
    "2. **Lets check the name and additional information about all the columns**"
   ]
  },
  {
   "cell_type": "code",
   "execution_count": 10,
   "metadata": {
    "colab": {
     "base_uri": "https://localhost:8080/"
    },
    "executionInfo": {
     "elapsed": 28,
     "status": "ok",
     "timestamp": 1700459305233,
     "user": {
      "displayName": "aftab khan",
      "userId": "08536307679373305907"
     },
     "user_tz": -330
    },
    "id": "qYlgsYrHrFPL",
    "outputId": "f0f3ebeb-28a4-46ff-a59a-8fd89605b72e"
   },
   "outputs": [
    {
     "data": {
      "text/plain": [
       "Index(['ID', 'Age', 'Experience', 'Income', 'ZIP Code', 'Family', 'CCAvg',\n",
       "       'Education', 'Mortgage', 'Personal Loan', 'Securities Account',\n",
       "       'CD Account', 'Online', 'CreditCard'],\n",
       "      dtype='object')"
      ]
     },
     "execution_count": 10,
     "metadata": {},
     "output_type": "execute_result"
    }
   ],
   "source": [
    "df.columns"
   ]
  },
  {
   "cell_type": "markdown",
   "metadata": {
    "id": "kUEtyNwHimQT"
   },
   "source": [
    "**About dataset**\n",
    "\n",
    "---\n",
    "**ID** : Unique identifier for each customer.\n",
    "\n",
    "**Age** : Age of the customer.\n",
    "\n",
    "**Experience** : Years of professional experience.\n",
    "\n",
    "**Income** : Customer's annual income.\n",
    "\n",
    "**ZIP Code** : Customer's postal code.\n",
    "\n",
    "**Family** : Size of the customer's family.\n",
    "\n",
    "**CCAvg** : Average credit card spending per month.\n",
    "\n",
    "**Education** : Level of education attained.\n",
    "\n",
    "**Mortgage** : Mortgage value, if applicable.\n",
    "\n",
    "**Personal Loan** : Target variable indicating acceptance of a personal loan offer.\n",
    "\n",
    "**Securities Account** : Whether the customer has a securities account.\n",
    "\n",
    "**CD Account** : Whether the customer has a certificate of deposit account.\n",
    "\n",
    "**Online** : Whether the customer uses online banking.\n",
    "\n",
    "**CreditCard** : Whether the customer has a credit card.\n"
   ]
  },
  {
   "cell_type": "code",
   "execution_count": 63,
   "metadata": {
    "scrolled": true
   },
   "outputs": [
    {
     "data": {
      "text/html": [
       "<style type=\"text/css\">\n",
       "#T_41549_row0_col0, #T_41549_row0_col1, #T_41549_row0_col2, #T_41549_row0_col3, #T_41549_row0_col4, #T_41549_row0_col5, #T_41549_row0_col6, #T_41549_row0_col7, #T_41549_row0_col8, #T_41549_row0_col9, #T_41549_row0_col10 {\n",
       "  background-color: #023858;\n",
       "  color: #f1f1f1;\n",
       "}\n",
       "#T_41549_row1_col0, #T_41549_row1_col3, #T_41549_row2_col1, #T_41549_row2_col3, #T_41549_row4_col0, #T_41549_row4_col1, #T_41549_row5_col0, #T_41549_row6_col3 {\n",
       "  background-color: #fef6fb;\n",
       "  color: #000000;\n",
       "}\n",
       "#T_41549_row1_col1, #T_41549_row6_col1 {\n",
       "  background-color: #fdf5fa;\n",
       "  color: #000000;\n",
       "}\n",
       "#T_41549_row1_col2, #T_41549_row1_col4, #T_41549_row1_col6, #T_41549_row1_col7, #T_41549_row1_col8, #T_41549_row1_col9, #T_41549_row1_col10, #T_41549_row2_col0, #T_41549_row2_col2, #T_41549_row2_col4, #T_41549_row2_col6, #T_41549_row2_col7, #T_41549_row2_col8, #T_41549_row2_col9, #T_41549_row2_col10, #T_41549_row3_col0, #T_41549_row3_col1, #T_41549_row3_col2, #T_41549_row3_col3, #T_41549_row3_col4, #T_41549_row3_col5, #T_41549_row3_col6, #T_41549_row3_col7, #T_41549_row3_col8, #T_41549_row3_col9, #T_41549_row3_col10, #T_41549_row4_col2, #T_41549_row4_col3, #T_41549_row4_col4, #T_41549_row4_col5, #T_41549_row4_col6, #T_41549_row4_col7, #T_41549_row4_col8, #T_41549_row4_col9, #T_41549_row4_col10, #T_41549_row5_col2, #T_41549_row5_col3, #T_41549_row5_col4, #T_41549_row5_col5, #T_41549_row5_col6, #T_41549_row5_col7, #T_41549_row5_col8, #T_41549_row5_col9, #T_41549_row5_col10, #T_41549_row6_col2, #T_41549_row6_col4, #T_41549_row6_col6, #T_41549_row6_col7, #T_41549_row6_col8, #T_41549_row6_col9, #T_41549_row6_col10, #T_41549_row7_col2, #T_41549_row7_col4, #T_41549_row7_col6, #T_41549_row7_col7, #T_41549_row7_col8, #T_41549_row7_col9, #T_41549_row7_col10 {\n",
       "  background-color: #fff7fb;\n",
       "  color: #000000;\n",
       "}\n",
       "#T_41549_row1_col5, #T_41549_row5_col1, #T_41549_row6_col0, #T_41549_row7_col0 {\n",
       "  background-color: #fef6fa;\n",
       "  color: #000000;\n",
       "}\n",
       "#T_41549_row2_col5, #T_41549_row6_col5 {\n",
       "  background-color: #fcf4fa;\n",
       "  color: #000000;\n",
       "}\n",
       "#T_41549_row7_col1 {\n",
       "  background-color: #f8f1f8;\n",
       "  color: #000000;\n",
       "}\n",
       "#T_41549_row7_col3 {\n",
       "  background-color: #fbf4f9;\n",
       "  color: #000000;\n",
       "}\n",
       "#T_41549_row7_col5 {\n",
       "  background-color: #ece7f2;\n",
       "  color: #000000;\n",
       "}\n",
       "</style>\n",
       "<table id=\"T_41549\">\n",
       "  <thead>\n",
       "    <tr>\n",
       "      <th class=\"blank level0\" >&nbsp;</th>\n",
       "      <th id=\"T_41549_level0_col0\" class=\"col_heading level0 col0\" >Age</th>\n",
       "      <th id=\"T_41549_level0_col1\" class=\"col_heading level0 col1\" >Income</th>\n",
       "      <th id=\"T_41549_level0_col2\" class=\"col_heading level0 col2\" >Family</th>\n",
       "      <th id=\"T_41549_level0_col3\" class=\"col_heading level0 col3\" >CCAvg</th>\n",
       "      <th id=\"T_41549_level0_col4\" class=\"col_heading level0 col4\" >Education</th>\n",
       "      <th id=\"T_41549_level0_col5\" class=\"col_heading level0 col5\" >Mortgage</th>\n",
       "      <th id=\"T_41549_level0_col6\" class=\"col_heading level0 col6\" >Personal Loan</th>\n",
       "      <th id=\"T_41549_level0_col7\" class=\"col_heading level0 col7\" >Securities Account</th>\n",
       "      <th id=\"T_41549_level0_col8\" class=\"col_heading level0 col8\" >CD Account</th>\n",
       "      <th id=\"T_41549_level0_col9\" class=\"col_heading level0 col9\" >Online</th>\n",
       "      <th id=\"T_41549_level0_col10\" class=\"col_heading level0 col10\" >CreditCard</th>\n",
       "    </tr>\n",
       "  </thead>\n",
       "  <tbody>\n",
       "    <tr>\n",
       "      <th id=\"T_41549_level0_row0\" class=\"row_heading level0 row0\" >count</th>\n",
       "      <td id=\"T_41549_row0_col0\" class=\"data row0 col0\" >5000.000000</td>\n",
       "      <td id=\"T_41549_row0_col1\" class=\"data row0 col1\" >5000.000000</td>\n",
       "      <td id=\"T_41549_row0_col2\" class=\"data row0 col2\" >5000.000000</td>\n",
       "      <td id=\"T_41549_row0_col3\" class=\"data row0 col3\" >5000.000000</td>\n",
       "      <td id=\"T_41549_row0_col4\" class=\"data row0 col4\" >5000.000000</td>\n",
       "      <td id=\"T_41549_row0_col5\" class=\"data row0 col5\" >5000.000000</td>\n",
       "      <td id=\"T_41549_row0_col6\" class=\"data row0 col6\" >5000.000000</td>\n",
       "      <td id=\"T_41549_row0_col7\" class=\"data row0 col7\" >5000.000000</td>\n",
       "      <td id=\"T_41549_row0_col8\" class=\"data row0 col8\" >5000.000000</td>\n",
       "      <td id=\"T_41549_row0_col9\" class=\"data row0 col9\" >5000.000000</td>\n",
       "      <td id=\"T_41549_row0_col10\" class=\"data row0 col10\" >5000.000000</td>\n",
       "    </tr>\n",
       "    <tr>\n",
       "      <th id=\"T_41549_level0_row1\" class=\"row_heading level0 row1\" >mean</th>\n",
       "      <td id=\"T_41549_row1_col0\" class=\"data row1 col0\" >45.338400</td>\n",
       "      <td id=\"T_41549_row1_col1\" class=\"data row1 col1\" >73.774200</td>\n",
       "      <td id=\"T_41549_row1_col2\" class=\"data row1 col2\" >2.396400</td>\n",
       "      <td id=\"T_41549_row1_col3\" class=\"data row1 col3\" >23.255256</td>\n",
       "      <td id=\"T_41549_row1_col4\" class=\"data row1 col4\" >1.881000</td>\n",
       "      <td id=\"T_41549_row1_col5\" class=\"data row1 col5\" >56.498800</td>\n",
       "      <td id=\"T_41549_row1_col6\" class=\"data row1 col6\" >0.096000</td>\n",
       "      <td id=\"T_41549_row1_col7\" class=\"data row1 col7\" >0.104400</td>\n",
       "      <td id=\"T_41549_row1_col8\" class=\"data row1 col8\" >0.060400</td>\n",
       "      <td id=\"T_41549_row1_col9\" class=\"data row1 col9\" >0.596800</td>\n",
       "      <td id=\"T_41549_row1_col10\" class=\"data row1 col10\" >0.294000</td>\n",
       "    </tr>\n",
       "    <tr>\n",
       "      <th id=\"T_41549_level0_row2\" class=\"row_heading level0 row2\" >std</th>\n",
       "      <td id=\"T_41549_row2_col0\" class=\"data row2 col0\" >11.463166</td>\n",
       "      <td id=\"T_41549_row2_col1\" class=\"data row2 col1\" >46.033729</td>\n",
       "      <td id=\"T_41549_row2_col2\" class=\"data row2 col2\" >1.147663</td>\n",
       "      <td id=\"T_41549_row2_col3\" class=\"data row2 col3\" >20.971908</td>\n",
       "      <td id=\"T_41549_row2_col4\" class=\"data row2 col4\" >0.839869</td>\n",
       "      <td id=\"T_41549_row2_col5\" class=\"data row2 col5\" >101.713802</td>\n",
       "      <td id=\"T_41549_row2_col6\" class=\"data row2 col6\" >0.294621</td>\n",
       "      <td id=\"T_41549_row2_col7\" class=\"data row2 col7\" >0.305809</td>\n",
       "      <td id=\"T_41549_row2_col8\" class=\"data row2 col8\" >0.238250</td>\n",
       "      <td id=\"T_41549_row2_col9\" class=\"data row2 col9\" >0.490589</td>\n",
       "      <td id=\"T_41549_row2_col10\" class=\"data row2 col10\" >0.455637</td>\n",
       "    </tr>\n",
       "    <tr>\n",
       "      <th id=\"T_41549_level0_row3\" class=\"row_heading level0 row3\" >min</th>\n",
       "      <td id=\"T_41549_row3_col0\" class=\"data row3 col0\" >23.000000</td>\n",
       "      <td id=\"T_41549_row3_col1\" class=\"data row3 col1\" >8.000000</td>\n",
       "      <td id=\"T_41549_row3_col2\" class=\"data row3 col2\" >1.000000</td>\n",
       "      <td id=\"T_41549_row3_col3\" class=\"data row3 col3\" >0.000000</td>\n",
       "      <td id=\"T_41549_row3_col4\" class=\"data row3 col4\" >1.000000</td>\n",
       "      <td id=\"T_41549_row3_col5\" class=\"data row3 col5\" >0.000000</td>\n",
       "      <td id=\"T_41549_row3_col6\" class=\"data row3 col6\" >0.000000</td>\n",
       "      <td id=\"T_41549_row3_col7\" class=\"data row3 col7\" >0.000000</td>\n",
       "      <td id=\"T_41549_row3_col8\" class=\"data row3 col8\" >0.000000</td>\n",
       "      <td id=\"T_41549_row3_col9\" class=\"data row3 col9\" >0.000000</td>\n",
       "      <td id=\"T_41549_row3_col10\" class=\"data row3 col10\" >0.000000</td>\n",
       "    </tr>\n",
       "    <tr>\n",
       "      <th id=\"T_41549_level0_row4\" class=\"row_heading level0 row4\" >25%</th>\n",
       "      <td id=\"T_41549_row4_col0\" class=\"data row4 col0\" >35.000000</td>\n",
       "      <td id=\"T_41549_row4_col1\" class=\"data row4 col1\" >39.000000</td>\n",
       "      <td id=\"T_41549_row4_col2\" class=\"data row4 col2\" >1.000000</td>\n",
       "      <td id=\"T_41549_row4_col3\" class=\"data row4 col3\" >8.400000</td>\n",
       "      <td id=\"T_41549_row4_col4\" class=\"data row4 col4\" >1.000000</td>\n",
       "      <td id=\"T_41549_row4_col5\" class=\"data row4 col5\" >0.000000</td>\n",
       "      <td id=\"T_41549_row4_col6\" class=\"data row4 col6\" >0.000000</td>\n",
       "      <td id=\"T_41549_row4_col7\" class=\"data row4 col7\" >0.000000</td>\n",
       "      <td id=\"T_41549_row4_col8\" class=\"data row4 col8\" >0.000000</td>\n",
       "      <td id=\"T_41549_row4_col9\" class=\"data row4 col9\" >0.000000</td>\n",
       "      <td id=\"T_41549_row4_col10\" class=\"data row4 col10\" >0.000000</td>\n",
       "    </tr>\n",
       "    <tr>\n",
       "      <th id=\"T_41549_level0_row5\" class=\"row_heading level0 row5\" >50%</th>\n",
       "      <td id=\"T_41549_row5_col0\" class=\"data row5 col0\" >45.000000</td>\n",
       "      <td id=\"T_41549_row5_col1\" class=\"data row5 col1\" >64.000000</td>\n",
       "      <td id=\"T_41549_row5_col2\" class=\"data row5 col2\" >2.000000</td>\n",
       "      <td id=\"T_41549_row5_col3\" class=\"data row5 col3\" >18.000000</td>\n",
       "      <td id=\"T_41549_row5_col4\" class=\"data row5 col4\" >2.000000</td>\n",
       "      <td id=\"T_41549_row5_col5\" class=\"data row5 col5\" >0.000000</td>\n",
       "      <td id=\"T_41549_row5_col6\" class=\"data row5 col6\" >0.000000</td>\n",
       "      <td id=\"T_41549_row5_col7\" class=\"data row5 col7\" >0.000000</td>\n",
       "      <td id=\"T_41549_row5_col8\" class=\"data row5 col8\" >0.000000</td>\n",
       "      <td id=\"T_41549_row5_col9\" class=\"data row5 col9\" >1.000000</td>\n",
       "      <td id=\"T_41549_row5_col10\" class=\"data row5 col10\" >0.000000</td>\n",
       "    </tr>\n",
       "    <tr>\n",
       "      <th id=\"T_41549_level0_row6\" class=\"row_heading level0 row6\" >75%</th>\n",
       "      <td id=\"T_41549_row6_col0\" class=\"data row6 col0\" >55.000000</td>\n",
       "      <td id=\"T_41549_row6_col1\" class=\"data row6 col1\" >98.000000</td>\n",
       "      <td id=\"T_41549_row6_col2\" class=\"data row6 col2\" >3.000000</td>\n",
       "      <td id=\"T_41549_row6_col3\" class=\"data row6 col3\" >30.000000</td>\n",
       "      <td id=\"T_41549_row6_col4\" class=\"data row6 col4\" >3.000000</td>\n",
       "      <td id=\"T_41549_row6_col5\" class=\"data row6 col5\" >101.000000</td>\n",
       "      <td id=\"T_41549_row6_col6\" class=\"data row6 col6\" >0.000000</td>\n",
       "      <td id=\"T_41549_row6_col7\" class=\"data row6 col7\" >0.000000</td>\n",
       "      <td id=\"T_41549_row6_col8\" class=\"data row6 col8\" >0.000000</td>\n",
       "      <td id=\"T_41549_row6_col9\" class=\"data row6 col9\" >1.000000</td>\n",
       "      <td id=\"T_41549_row6_col10\" class=\"data row6 col10\" >1.000000</td>\n",
       "    </tr>\n",
       "    <tr>\n",
       "      <th id=\"T_41549_level0_row7\" class=\"row_heading level0 row7\" >max</th>\n",
       "      <td id=\"T_41549_row7_col0\" class=\"data row7 col0\" >67.000000</td>\n",
       "      <td id=\"T_41549_row7_col1\" class=\"data row7 col1\" >224.000000</td>\n",
       "      <td id=\"T_41549_row7_col2\" class=\"data row7 col2\" >4.000000</td>\n",
       "      <td id=\"T_41549_row7_col3\" class=\"data row7 col3\" >120.000000</td>\n",
       "      <td id=\"T_41549_row7_col4\" class=\"data row7 col4\" >3.000000</td>\n",
       "      <td id=\"T_41549_row7_col5\" class=\"data row7 col5\" >635.000000</td>\n",
       "      <td id=\"T_41549_row7_col6\" class=\"data row7 col6\" >1.000000</td>\n",
       "      <td id=\"T_41549_row7_col7\" class=\"data row7 col7\" >1.000000</td>\n",
       "      <td id=\"T_41549_row7_col8\" class=\"data row7 col8\" >1.000000</td>\n",
       "      <td id=\"T_41549_row7_col9\" class=\"data row7 col9\" >1.000000</td>\n",
       "      <td id=\"T_41549_row7_col10\" class=\"data row7 col10\" >1.000000</td>\n",
       "    </tr>\n",
       "  </tbody>\n",
       "</table>\n"
      ],
      "text/plain": [
       "<pandas.io.formats.style.Styler at 0x1ec0ae31d90>"
      ]
     },
     "execution_count": 63,
     "metadata": {},
     "output_type": "execute_result"
    }
   ],
   "source": [
    "#More information about the columns\n",
    "df.describe().style.background_gradient()"
   ]
  },
  {
   "cell_type": "code",
   "execution_count": 12,
   "metadata": {},
   "outputs": [
    {
     "name": "stdout",
     "output_type": "stream",
     "text": [
      "<class 'pandas.core.frame.DataFrame'>\n",
      "RangeIndex: 5000 entries, 0 to 4999\n",
      "Data columns (total 14 columns):\n",
      " #   Column              Non-Null Count  Dtype  \n",
      "---  ------              --------------  -----  \n",
      " 0   ID                  5000 non-null   int64  \n",
      " 1   Age                 5000 non-null   int64  \n",
      " 2   Experience          5000 non-null   int64  \n",
      " 3   Income              5000 non-null   int64  \n",
      " 4   ZIP Code            5000 non-null   int64  \n",
      " 5   Family              5000 non-null   int64  \n",
      " 6   CCAvg               5000 non-null   float64\n",
      " 7   Education           5000 non-null   int64  \n",
      " 8   Mortgage            5000 non-null   int64  \n",
      " 9   Personal Loan       5000 non-null   int64  \n",
      " 10  Securities Account  5000 non-null   int64  \n",
      " 11  CD Account          5000 non-null   int64  \n",
      " 12  Online              5000 non-null   int64  \n",
      " 13  CreditCard          5000 non-null   int64  \n",
      "dtypes: float64(1), int64(13)\n",
      "memory usage: 547.0 KB\n"
     ]
    }
   ],
   "source": [
    "#Data types of all the columns\n",
    "df.info()"
   ]
  },
  {
   "cell_type": "markdown",
   "metadata": {},
   "source": [
    "1. we can see that all columns have numerical value.\n",
    "2. Our target varibale is \"Personal Loan\"."
   ]
  },
  {
   "cell_type": "markdown",
   "metadata": {
    "id": "4PNWIrURXxSs"
   },
   "source": [
    "**Visualization**\n",
    "\n",
    "**------------------**\n",
    "\n",
    "\n"
   ]
  },
  {
   "cell_type": "code",
   "execution_count": 13,
   "metadata": {},
   "outputs": [],
   "source": [
    "# REPLACE THE NUMERIC VALUE WITH CATEGORICAL VALUES ONLY FOR VISUALIZATION\n",
    "df[\"Personal Loan\"]=df[\"Personal Loan\"].replace({0:\"Not Taken\",1:\"Taken\"})\n",
    "df[\"Education\"]=df[\"Education\"].replace({1:\"Undergraduate\",2:\"Graduate\",3:\"Professional\"})\n",
    "df[\"Securities Account\"]=df[\"Securities Account\"].replace({0:\"Does Not Have\",1:\"Have\"})\n",
    "df[\"CD Account\"]=df[\"CD Account\"].replace({0:\"Does Not Have\",1:\"Have\"})\n",
    "df[\"Online\"]=df[\"Online\"].replace({0:\"Not Using\",1:\"Using\"})\n",
    "df[\"CreditCard\"]=df[\"CreditCard\"].replace({0:\"Does Not Have\",1:\"Have\"})   "
   ]
  },
  {
   "cell_type": "code",
   "execution_count": 14,
   "metadata": {},
   "outputs": [
    {
     "data": {
      "text/html": [
       "<div>\n",
       "<style scoped>\n",
       "    .dataframe tbody tr th:only-of-type {\n",
       "        vertical-align: middle;\n",
       "    }\n",
       "\n",
       "    .dataframe tbody tr th {\n",
       "        vertical-align: top;\n",
       "    }\n",
       "\n",
       "    .dataframe thead th {\n",
       "        text-align: right;\n",
       "    }\n",
       "</style>\n",
       "<table border=\"1\" class=\"dataframe\">\n",
       "  <thead>\n",
       "    <tr style=\"text-align: right;\">\n",
       "      <th></th>\n",
       "      <th>ID</th>\n",
       "      <th>Age</th>\n",
       "      <th>Experience</th>\n",
       "      <th>Income</th>\n",
       "      <th>ZIP Code</th>\n",
       "      <th>Family</th>\n",
       "      <th>CCAvg</th>\n",
       "      <th>Education</th>\n",
       "      <th>Mortgage</th>\n",
       "      <th>Personal Loan</th>\n",
       "      <th>Securities Account</th>\n",
       "      <th>CD Account</th>\n",
       "      <th>Online</th>\n",
       "      <th>CreditCard</th>\n",
       "    </tr>\n",
       "  </thead>\n",
       "  <tbody>\n",
       "    <tr>\n",
       "      <th>0</th>\n",
       "      <td>1</td>\n",
       "      <td>25</td>\n",
       "      <td>1</td>\n",
       "      <td>49</td>\n",
       "      <td>91107</td>\n",
       "      <td>4</td>\n",
       "      <td>1.6</td>\n",
       "      <td>Undergraduate</td>\n",
       "      <td>0</td>\n",
       "      <td>Not Taken</td>\n",
       "      <td>Have</td>\n",
       "      <td>Does Not Have</td>\n",
       "      <td>Not Using</td>\n",
       "      <td>Does Not Have</td>\n",
       "    </tr>\n",
       "    <tr>\n",
       "      <th>1</th>\n",
       "      <td>2</td>\n",
       "      <td>45</td>\n",
       "      <td>19</td>\n",
       "      <td>34</td>\n",
       "      <td>90089</td>\n",
       "      <td>3</td>\n",
       "      <td>1.5</td>\n",
       "      <td>Undergraduate</td>\n",
       "      <td>0</td>\n",
       "      <td>Not Taken</td>\n",
       "      <td>Have</td>\n",
       "      <td>Does Not Have</td>\n",
       "      <td>Not Using</td>\n",
       "      <td>Does Not Have</td>\n",
       "    </tr>\n",
       "    <tr>\n",
       "      <th>2</th>\n",
       "      <td>3</td>\n",
       "      <td>39</td>\n",
       "      <td>15</td>\n",
       "      <td>11</td>\n",
       "      <td>94720</td>\n",
       "      <td>1</td>\n",
       "      <td>1.0</td>\n",
       "      <td>Undergraduate</td>\n",
       "      <td>0</td>\n",
       "      <td>Not Taken</td>\n",
       "      <td>Does Not Have</td>\n",
       "      <td>Does Not Have</td>\n",
       "      <td>Not Using</td>\n",
       "      <td>Does Not Have</td>\n",
       "    </tr>\n",
       "    <tr>\n",
       "      <th>3</th>\n",
       "      <td>4</td>\n",
       "      <td>35</td>\n",
       "      <td>9</td>\n",
       "      <td>100</td>\n",
       "      <td>94112</td>\n",
       "      <td>1</td>\n",
       "      <td>2.7</td>\n",
       "      <td>Graduate</td>\n",
       "      <td>0</td>\n",
       "      <td>Not Taken</td>\n",
       "      <td>Does Not Have</td>\n",
       "      <td>Does Not Have</td>\n",
       "      <td>Not Using</td>\n",
       "      <td>Does Not Have</td>\n",
       "    </tr>\n",
       "    <tr>\n",
       "      <th>4</th>\n",
       "      <td>5</td>\n",
       "      <td>35</td>\n",
       "      <td>8</td>\n",
       "      <td>45</td>\n",
       "      <td>91330</td>\n",
       "      <td>4</td>\n",
       "      <td>1.0</td>\n",
       "      <td>Graduate</td>\n",
       "      <td>0</td>\n",
       "      <td>Not Taken</td>\n",
       "      <td>Does Not Have</td>\n",
       "      <td>Does Not Have</td>\n",
       "      <td>Not Using</td>\n",
       "      <td>Have</td>\n",
       "    </tr>\n",
       "    <tr>\n",
       "      <th>...</th>\n",
       "      <td>...</td>\n",
       "      <td>...</td>\n",
       "      <td>...</td>\n",
       "      <td>...</td>\n",
       "      <td>...</td>\n",
       "      <td>...</td>\n",
       "      <td>...</td>\n",
       "      <td>...</td>\n",
       "      <td>...</td>\n",
       "      <td>...</td>\n",
       "      <td>...</td>\n",
       "      <td>...</td>\n",
       "      <td>...</td>\n",
       "      <td>...</td>\n",
       "    </tr>\n",
       "    <tr>\n",
       "      <th>4995</th>\n",
       "      <td>4996</td>\n",
       "      <td>29</td>\n",
       "      <td>3</td>\n",
       "      <td>40</td>\n",
       "      <td>92697</td>\n",
       "      <td>1</td>\n",
       "      <td>1.9</td>\n",
       "      <td>Professional</td>\n",
       "      <td>0</td>\n",
       "      <td>Not Taken</td>\n",
       "      <td>Does Not Have</td>\n",
       "      <td>Does Not Have</td>\n",
       "      <td>Using</td>\n",
       "      <td>Does Not Have</td>\n",
       "    </tr>\n",
       "    <tr>\n",
       "      <th>4996</th>\n",
       "      <td>4997</td>\n",
       "      <td>30</td>\n",
       "      <td>4</td>\n",
       "      <td>15</td>\n",
       "      <td>92037</td>\n",
       "      <td>4</td>\n",
       "      <td>0.4</td>\n",
       "      <td>Undergraduate</td>\n",
       "      <td>85</td>\n",
       "      <td>Not Taken</td>\n",
       "      <td>Does Not Have</td>\n",
       "      <td>Does Not Have</td>\n",
       "      <td>Using</td>\n",
       "      <td>Does Not Have</td>\n",
       "    </tr>\n",
       "    <tr>\n",
       "      <th>4997</th>\n",
       "      <td>4998</td>\n",
       "      <td>63</td>\n",
       "      <td>39</td>\n",
       "      <td>24</td>\n",
       "      <td>93023</td>\n",
       "      <td>2</td>\n",
       "      <td>0.3</td>\n",
       "      <td>Professional</td>\n",
       "      <td>0</td>\n",
       "      <td>Not Taken</td>\n",
       "      <td>Does Not Have</td>\n",
       "      <td>Does Not Have</td>\n",
       "      <td>Not Using</td>\n",
       "      <td>Does Not Have</td>\n",
       "    </tr>\n",
       "    <tr>\n",
       "      <th>4998</th>\n",
       "      <td>4999</td>\n",
       "      <td>65</td>\n",
       "      <td>40</td>\n",
       "      <td>49</td>\n",
       "      <td>90034</td>\n",
       "      <td>3</td>\n",
       "      <td>0.5</td>\n",
       "      <td>Graduate</td>\n",
       "      <td>0</td>\n",
       "      <td>Not Taken</td>\n",
       "      <td>Does Not Have</td>\n",
       "      <td>Does Not Have</td>\n",
       "      <td>Using</td>\n",
       "      <td>Does Not Have</td>\n",
       "    </tr>\n",
       "    <tr>\n",
       "      <th>4999</th>\n",
       "      <td>5000</td>\n",
       "      <td>28</td>\n",
       "      <td>4</td>\n",
       "      <td>83</td>\n",
       "      <td>92612</td>\n",
       "      <td>3</td>\n",
       "      <td>0.8</td>\n",
       "      <td>Undergraduate</td>\n",
       "      <td>0</td>\n",
       "      <td>Not Taken</td>\n",
       "      <td>Does Not Have</td>\n",
       "      <td>Does Not Have</td>\n",
       "      <td>Using</td>\n",
       "      <td>Have</td>\n",
       "    </tr>\n",
       "  </tbody>\n",
       "</table>\n",
       "<p>5000 rows × 14 columns</p>\n",
       "</div>"
      ],
      "text/plain": [
       "        ID  Age  Experience  Income  ZIP Code  Family  CCAvg      Education  \\\n",
       "0        1   25           1      49     91107       4    1.6  Undergraduate   \n",
       "1        2   45          19      34     90089       3    1.5  Undergraduate   \n",
       "2        3   39          15      11     94720       1    1.0  Undergraduate   \n",
       "3        4   35           9     100     94112       1    2.7       Graduate   \n",
       "4        5   35           8      45     91330       4    1.0       Graduate   \n",
       "...    ...  ...         ...     ...       ...     ...    ...            ...   \n",
       "4995  4996   29           3      40     92697       1    1.9   Professional   \n",
       "4996  4997   30           4      15     92037       4    0.4  Undergraduate   \n",
       "4997  4998   63          39      24     93023       2    0.3   Professional   \n",
       "4998  4999   65          40      49     90034       3    0.5       Graduate   \n",
       "4999  5000   28           4      83     92612       3    0.8  Undergraduate   \n",
       "\n",
       "      Mortgage Personal Loan Securities Account     CD Account     Online  \\\n",
       "0            0     Not Taken               Have  Does Not Have  Not Using   \n",
       "1            0     Not Taken               Have  Does Not Have  Not Using   \n",
       "2            0     Not Taken      Does Not Have  Does Not Have  Not Using   \n",
       "3            0     Not Taken      Does Not Have  Does Not Have  Not Using   \n",
       "4            0     Not Taken      Does Not Have  Does Not Have  Not Using   \n",
       "...        ...           ...                ...            ...        ...   \n",
       "4995         0     Not Taken      Does Not Have  Does Not Have      Using   \n",
       "4996        85     Not Taken      Does Not Have  Does Not Have      Using   \n",
       "4997         0     Not Taken      Does Not Have  Does Not Have  Not Using   \n",
       "4998         0     Not Taken      Does Not Have  Does Not Have      Using   \n",
       "4999         0     Not Taken      Does Not Have  Does Not Have      Using   \n",
       "\n",
       "         CreditCard  \n",
       "0     Does Not Have  \n",
       "1     Does Not Have  \n",
       "2     Does Not Have  \n",
       "3     Does Not Have  \n",
       "4              Have  \n",
       "...             ...  \n",
       "4995  Does Not Have  \n",
       "4996  Does Not Have  \n",
       "4997  Does Not Have  \n",
       "4998  Does Not Have  \n",
       "4999           Have  \n",
       "\n",
       "[5000 rows x 14 columns]"
      ]
     },
     "execution_count": 14,
     "metadata": {},
     "output_type": "execute_result"
    }
   ],
   "source": [
    "df"
   ]
  },
  {
   "cell_type": "code",
   "execution_count": 15,
   "metadata": {
    "colab": {
     "base_uri": "https://localhost:8080/"
    },
    "executionInfo": {
     "elapsed": 55,
     "status": "ok",
     "timestamp": 1700459308144,
     "user": {
      "displayName": "aftab khan",
      "userId": "08536307679373305907"
     },
     "user_tz": -330
    },
    "id": "Y4YDItHwrZDh",
    "outputId": "0bb9dd58-7202-48ec-df43-6439c26f4b49"
   },
   "outputs": [
    {
     "data": {
      "text/plain": [
       "Not Taken    4520\n",
       "Taken         480\n",
       "Name: Personal Loan, dtype: int64"
      ]
     },
     "execution_count": 15,
     "metadata": {},
     "output_type": "execute_result"
    }
   ],
   "source": [
    "# CLASS DISTRIBUTION OF TARGET VARIABLE\n",
    "df[\"Personal Loan\"].value_counts() #PERSONAL LOAN"
   ]
  },
  {
   "cell_type": "code",
   "execution_count": 16,
   "metadata": {
    "executionInfo": {
     "elapsed": 53,
     "status": "ok",
     "timestamp": 1700459308145,
     "user": {
      "displayName": "aftab khan",
      "userId": "08536307679373305907"
     },
     "user_tz": -330
    },
    "id": "MfC3trBRsOcC"
   },
   "outputs": [],
   "source": [
    "loan_count=df[\"Personal Loan\"].value_counts()"
   ]
  },
  {
   "cell_type": "code",
   "execution_count": 17,
   "metadata": {
    "colab": {
     "base_uri": "https://localhost:8080/",
     "height": 521
    },
    "executionInfo": {
     "elapsed": 52,
     "status": "ok",
     "timestamp": 1700459308145,
     "user": {
      "displayName": "aftab khan",
      "userId": "08536307679373305907"
     },
     "user_tz": -330
    },
    "id": "VaU4yFNXrmsv",
    "outputId": "e31dd938-b7bf-4b75-e838-09a1d9656bc2"
   },
   "outputs": [
    {
     "data": {
      "image/png": "[encoded data removed]",
      "text/plain": [
       "<Figure size 600x600 with 1 Axes>"
      ]
     },
     "metadata": {},
     "output_type": "display_data"
    }
   ],
   "source": [
    "plt.figure(figsize=(6, 6))\n",
    "plt.pie(loan_count,labels=[\"Not Taken Loan \", \"Taken Loan\"], autopct=\"%1.1f%%\", startangle=90)\n",
    "plt.title(\"Distribution of Loan Taken Status\")\n",
    "plt.show()"
   ]
  },
  {
   "cell_type": "markdown",
   "metadata": {
    "id": "IsCOVAZHtDQE"
   },
   "source": [
    "**OBSERVATION**\n",
    "\n",
    "---\n",
    "\n",
    "1. From above pie chart we can see that our target variable distribution is highly imbalanced.\n",
    "2. Majority of the customers Not taken the personal loan **(90.40%)**\n",
    "3. Only **(9.60%)** customers has taken the loan.\n"
   ]
  },
  {
   "cell_type": "code",
   "execution_count": 18,
   "metadata": {},
   "outputs": [
    {
     "data": {
      "text/plain": [
       "<Axes: xlabel='Education', ylabel='count'>"
      ]
     },
     "execution_count": 18,
     "metadata": {},
     "output_type": "execute_result"
    },
    {
     "data": {
      "image/png": "[encoded data removed]",
      "text/plain": [
       "<Figure size 640x480 with 1 Axes>"
      ]
     },
     "metadata": {},
     "output_type": "display_data"
    }
   ],
   "source": [
    "sns.countplot(x=\"Education\",data=df,hue=\"Personal Loan\",palette=\"Set2\")"
   ]
  },
  {
   "cell_type": "markdown",
   "metadata": {},
   "source": [
    "**OBSERVATION**\n",
    "1. Customers that belong to education category **Graduation** and **Professional** have taken more Personal Loan then the **Undergraduate** class."
   ]
  },
  {
   "cell_type": "code",
   "execution_count": 19,
   "metadata": {
    "colab": {
     "base_uri": "https://localhost:8080/",
     "height": 466
    },
    "executionInfo": {
     "elapsed": 42,
     "status": "ok",
     "timestamp": 1700459308145,
     "user": {
      "displayName": "aftab khan",
      "userId": "08536307679373305907"
     },
     "user_tz": -330
    },
    "id": "GEhT6mdZNZMW",
    "outputId": "2f32d064-8087-4689-8185-6b98db4f152f"
   },
   "outputs": [
    {
     "data": {
      "text/plain": [
       "<Axes: xlabel='Family', ylabel='count'>"
      ]
     },
     "execution_count": 19,
     "metadata": {},
     "output_type": "execute_result"
    },
    {
     "data": {
      "image/png": "[encoded data removed]",
      "text/plain": [
       "<Figure size 640x480 with 1 Axes>"
      ]
     },
     "metadata": {},
     "output_type": "display_data"
    }
   ],
   "source": [
    "sns.countplot(x='Family',data=df,hue=\"Personal Loan\",palette=\"viridis\")"
   ]
  },
  {
   "cell_type": "markdown",
   "metadata": {
    "id": "6bUeaxy9OIzn"
   },
   "source": [
    "**OBSERVATION**\n",
    "\n",
    "---\n",
    "1. Family size of 3 and 4 members are tending to take Personal Loan."
   ]
  },
  {
   "cell_type": "code",
   "execution_count": 20,
   "metadata": {
    "colab": {
     "base_uri": "https://localhost:8080/",
     "height": 466
    },
    "executionInfo": {
     "elapsed": 39,
     "status": "ok",
     "timestamp": 1700459308145,
     "user": {
      "displayName": "aftab khan",
      "userId": "08536307679373305907"
     },
     "user_tz": -330
    },
    "id": "wP84vSAULsHA",
    "outputId": "7eba7111-c615-4b2a-f2d8-3ac5632e42bd"
   },
   "outputs": [
    {
     "data": {
      "text/plain": [
       "<Axes: xlabel='Securities Account', ylabel='count'>"
      ]
     },
     "execution_count": 20,
     "metadata": {},
     "output_type": "execute_result"
    },
    {
     "data": {
      "image/png": "[encoded data removed]",
      "text/plain": [
       "<Figure size 640x480 with 1 Axes>"
      ]
     },
     "metadata": {},
     "output_type": "display_data"
    }
   ],
   "source": [
    "sns.countplot(x=\"Securities Account\",data=df,hue=\"Personal Loan\",palette=\"Set1\")"
   ]
  },
  {
   "cell_type": "markdown",
   "metadata": {
    "id": "UfKK3KuZL9m-"
   },
   "source": [
    "**OBSERVATION**\n",
    "\n",
    "---\n",
    "\n",
    "1. The customers who do not have a securities A/C have taken more loans compared to those who have a securities A/C."
   ]
  },
  {
   "cell_type": "code",
   "execution_count": 21,
   "metadata": {
    "colab": {
     "base_uri": "https://localhost:8080/",
     "height": 466
    },
    "executionInfo": {
     "elapsed": 3169,
     "status": "ok",
     "timestamp": 1700459311279,
     "user": {
      "displayName": "aftab khan",
      "userId": "08536307679373305907"
     },
     "user_tz": -330
    },
    "id": "p8cmVSKlMsUh",
    "outputId": "1a9e0b34-a2a9-45c3-9610-a0ab9e8bad9d"
   },
   "outputs": [
    {
     "data": {
      "text/plain": [
       "<Axes: xlabel='CD Account', ylabel='count'>"
      ]
     },
     "execution_count": 21,
     "metadata": {},
     "output_type": "execute_result"
    },
    {
     "data": {
      "image/png": "[encoded data removed]",
      "text/plain": [
       "<Figure size 640x480 with 1 Axes>"
      ]
     },
     "metadata": {},
     "output_type": "display_data"
    }
   ],
   "source": [
    "sns.countplot(x=\"CD Account\",data=df,hue=\"Personal Loan\",palette=\"Set1\")"
   ]
  },
  {
   "cell_type": "markdown",
   "metadata": {
    "id": "shyNdxxJMtML"
   },
   "source": [
    "**OBSERVATION**\n",
    "\n",
    "---\n",
    "\n",
    "\n",
    "1. We can see that customers who have a **Certificate of Deposit (CDAccount)** have mostly taken a Personal Loan.\n",
    "\n",
    "2. Who do not have **Certificate of Deposit(CDAccount)** Most of them is not taken the personal loan."
   ]
  },
  {
   "cell_type": "code",
   "execution_count": 22,
   "metadata": {
    "colab": {
     "base_uri": "https://localhost:8080/",
     "height": 466
    },
    "executionInfo": {
     "elapsed": 80,
     "status": "ok",
     "timestamp": 1700459311280,
     "user": {
      "displayName": "aftab khan",
      "userId": "08536307679373305907"
     },
     "user_tz": -330
    },
    "id": "l56bjjdEQICi",
    "outputId": "fbb1bd8f-943e-4ab8-9d56-2db3d905f36e"
   },
   "outputs": [
    {
     "data": {
      "text/plain": [
       "<Axes: xlabel='Online', ylabel='count'>"
      ]
     },
     "execution_count": 22,
     "metadata": {},
     "output_type": "execute_result"
    },
    {
     "data": {
      "image/png": "[encoded data removed]",
      "text/plain": [
       "<Figure size 640x480 with 1 Axes>"
      ]
     },
     "metadata": {},
     "output_type": "display_data"
    }
   ],
   "source": [
    "sns.countplot(x=\"Online\",data=df,hue=\"Personal Loan\",palette=\"Set1\")"
   ]
  },
  {
   "cell_type": "markdown",
   "metadata": {
    "id": "8BdbgDpwQNqU"
   },
   "source": [
    "**OBSERVATION**\n",
    "\n",
    "---\n",
    "1. Customers who use online banking services are more likely to have a higher number of personal loans than those who do not use online services."
   ]
  },
  {
   "cell_type": "code",
   "execution_count": 23,
   "metadata": {
    "colab": {
     "base_uri": "https://localhost:8080/",
     "height": 466
    },
    "executionInfo": {
     "elapsed": 75,
     "status": "ok",
     "timestamp": 1700459311280,
     "user": {
      "displayName": "aftab khan",
      "userId": "08536307679373305907"
     },
     "user_tz": -330
    },
    "id": "8qdVOZLUQvTw",
    "outputId": "7339f879-560c-40ea-ae4e-1de2b7a7f24a"
   },
   "outputs": [
    {
     "data": {
      "text/plain": [
       "<Axes: xlabel='CreditCard', ylabel='count'>"
      ]
     },
     "execution_count": 23,
     "metadata": {},
     "output_type": "execute_result"
    },
    {
     "data": {
      "image/png": "[encoded data removed]",
      "text/plain": [
       "<Figure size 640x480 with 1 Axes>"
      ]
     },
     "metadata": {},
     "output_type": "display_data"
    }
   ],
   "source": [
    "sns.countplot(x=\"CreditCard\",data=df,hue=\"Personal Loan\",palette=\"Set1\")"
   ]
  },
  {
   "cell_type": "markdown",
   "metadata": {
    "id": "KegpavxxQ1I7"
   },
   "source": [
    "**OBSERVATION**\n",
    "\n",
    "---\n",
    "1. Most people who have a **credit card** do not seem to take out a personal loan."
   ]
  },
  {
   "cell_type": "code",
   "execution_count": 24,
   "metadata": {},
   "outputs": [],
   "source": [
    "# NOW REPLACE WITH ORIGINAL VALUE OF DATA \n",
    "df[\"Personal Loan\"]=df[\"Personal Loan\"].replace({\"Not Taken\":0,\"Taken\":1})\n",
    "df[\"Education\"]=df[\"Education\"].replace({\"Undergraduate\":1,\"Graduate\":2,\"Professional\":3})\n",
    "df[\"Securities Account\"]=df[\"Securities Account\"].replace({\"Does Not Have\":0,\"Have\":1})\n",
    "df[\"CD Account\"]=df[\"CD Account\"].replace({\"Does Not Have\":0,\"Have\":1})\n",
    "df[\"Online\"]=df[\"Online\"].replace({\"Not Using\":0,\"Using\":1})\n",
    "df[\"CreditCard\"]=df[\"CreditCard\"].replace({\"Does Not Have\":0,\"Have\":1})   "
   ]
  },
  {
   "cell_type": "code",
   "execution_count": 25,
   "metadata": {},
   "outputs": [
    {
     "data": {
      "text/html": [
       "<div>\n",
       "<style scoped>\n",
       "    .dataframe tbody tr th:only-of-type {\n",
       "        vertical-align: middle;\n",
       "    }\n",
       "\n",
       "    .dataframe tbody tr th {\n",
       "        vertical-align: top;\n",
       "    }\n",
       "\n",
       "    .dataframe thead th {\n",
       "        text-align: right;\n",
       "    }\n",
       "</style>\n",
       "<table border=\"1\" class=\"dataframe\">\n",
       "  <thead>\n",
       "    <tr style=\"text-align: right;\">\n",
       "      <th></th>\n",
       "      <th>ID</th>\n",
       "      <th>Age</th>\n",
       "      <th>Experience</th>\n",
       "      <th>Income</th>\n",
       "      <th>ZIP Code</th>\n",
       "      <th>Family</th>\n",
       "      <th>CCAvg</th>\n",
       "      <th>Education</th>\n",
       "      <th>Mortgage</th>\n",
       "      <th>Personal Loan</th>\n",
       "      <th>Securities Account</th>\n",
       "      <th>CD Account</th>\n",
       "      <th>Online</th>\n",
       "      <th>CreditCard</th>\n",
       "    </tr>\n",
       "  </thead>\n",
       "  <tbody>\n",
       "    <tr>\n",
       "      <th>0</th>\n",
       "      <td>1</td>\n",
       "      <td>25</td>\n",
       "      <td>1</td>\n",
       "      <td>49</td>\n",
       "      <td>91107</td>\n",
       "      <td>4</td>\n",
       "      <td>1.6</td>\n",
       "      <td>1</td>\n",
       "      <td>0</td>\n",
       "      <td>0</td>\n",
       "      <td>1</td>\n",
       "      <td>0</td>\n",
       "      <td>0</td>\n",
       "      <td>0</td>\n",
       "    </tr>\n",
       "    <tr>\n",
       "      <th>1</th>\n",
       "      <td>2</td>\n",
       "      <td>45</td>\n",
       "      <td>19</td>\n",
       "      <td>34</td>\n",
       "      <td>90089</td>\n",
       "      <td>3</td>\n",
       "      <td>1.5</td>\n",
       "      <td>1</td>\n",
       "      <td>0</td>\n",
       "      <td>0</td>\n",
       "      <td>1</td>\n",
       "      <td>0</td>\n",
       "      <td>0</td>\n",
       "      <td>0</td>\n",
       "    </tr>\n",
       "    <tr>\n",
       "      <th>2</th>\n",
       "      <td>3</td>\n",
       "      <td>39</td>\n",
       "      <td>15</td>\n",
       "      <td>11</td>\n",
       "      <td>94720</td>\n",
       "      <td>1</td>\n",
       "      <td>1.0</td>\n",
       "      <td>1</td>\n",
       "      <td>0</td>\n",
       "      <td>0</td>\n",
       "      <td>0</td>\n",
       "      <td>0</td>\n",
       "      <td>0</td>\n",
       "      <td>0</td>\n",
       "    </tr>\n",
       "    <tr>\n",
       "      <th>3</th>\n",
       "      <td>4</td>\n",
       "      <td>35</td>\n",
       "      <td>9</td>\n",
       "      <td>100</td>\n",
       "      <td>94112</td>\n",
       "      <td>1</td>\n",
       "      <td>2.7</td>\n",
       "      <td>2</td>\n",
       "      <td>0</td>\n",
       "      <td>0</td>\n",
       "      <td>0</td>\n",
       "      <td>0</td>\n",
       "      <td>0</td>\n",
       "      <td>0</td>\n",
       "    </tr>\n",
       "    <tr>\n",
       "      <th>4</th>\n",
       "      <td>5</td>\n",
       "      <td>35</td>\n",
       "      <td>8</td>\n",
       "      <td>45</td>\n",
       "      <td>91330</td>\n",
       "      <td>4</td>\n",
       "      <td>1.0</td>\n",
       "      <td>2</td>\n",
       "      <td>0</td>\n",
       "      <td>0</td>\n",
       "      <td>0</td>\n",
       "      <td>0</td>\n",
       "      <td>0</td>\n",
       "      <td>1</td>\n",
       "    </tr>\n",
       "    <tr>\n",
       "      <th>...</th>\n",
       "      <td>...</td>\n",
       "      <td>...</td>\n",
       "      <td>...</td>\n",
       "      <td>...</td>\n",
       "      <td>...</td>\n",
       "      <td>...</td>\n",
       "      <td>...</td>\n",
       "      <td>...</td>\n",
       "      <td>...</td>\n",
       "      <td>...</td>\n",
       "      <td>...</td>\n",
       "      <td>...</td>\n",
       "      <td>...</td>\n",
       "      <td>...</td>\n",
       "    </tr>\n",
       "    <tr>\n",
       "      <th>4995</th>\n",
       "      <td>4996</td>\n",
       "      <td>29</td>\n",
       "      <td>3</td>\n",
       "      <td>40</td>\n",
       "      <td>92697</td>\n",
       "      <td>1</td>\n",
       "      <td>1.9</td>\n",
       "      <td>3</td>\n",
       "      <td>0</td>\n",
       "      <td>0</td>\n",
       "      <td>0</td>\n",
       "      <td>0</td>\n",
       "      <td>1</td>\n",
       "      <td>0</td>\n",
       "    </tr>\n",
       "    <tr>\n",
       "      <th>4996</th>\n",
       "      <td>4997</td>\n",
       "      <td>30</td>\n",
       "      <td>4</td>\n",
       "      <td>15</td>\n",
       "      <td>92037</td>\n",
       "      <td>4</td>\n",
       "      <td>0.4</td>\n",
       "      <td>1</td>\n",
       "      <td>85</td>\n",
       "      <td>0</td>\n",
       "      <td>0</td>\n",
       "      <td>0</td>\n",
       "      <td>1</td>\n",
       "      <td>0</td>\n",
       "    </tr>\n",
       "    <tr>\n",
       "      <th>4997</th>\n",
       "      <td>4998</td>\n",
       "      <td>63</td>\n",
       "      <td>39</td>\n",
       "      <td>24</td>\n",
       "      <td>93023</td>\n",
       "      <td>2</td>\n",
       "      <td>0.3</td>\n",
       "      <td>3</td>\n",
       "      <td>0</td>\n",
       "      <td>0</td>\n",
       "      <td>0</td>\n",
       "      <td>0</td>\n",
       "      <td>0</td>\n",
       "      <td>0</td>\n",
       "    </tr>\n",
       "    <tr>\n",
       "      <th>4998</th>\n",
       "      <td>4999</td>\n",
       "      <td>65</td>\n",
       "      <td>40</td>\n",
       "      <td>49</td>\n",
       "      <td>90034</td>\n",
       "      <td>3</td>\n",
       "      <td>0.5</td>\n",
       "      <td>2</td>\n",
       "      <td>0</td>\n",
       "      <td>0</td>\n",
       "      <td>0</td>\n",
       "      <td>0</td>\n",
       "      <td>1</td>\n",
       "      <td>0</td>\n",
       "    </tr>\n",
       "    <tr>\n",
       "      <th>4999</th>\n",
       "      <td>5000</td>\n",
       "      <td>28</td>\n",
       "      <td>4</td>\n",
       "      <td>83</td>\n",
       "      <td>92612</td>\n",
       "      <td>3</td>\n",
       "      <td>0.8</td>\n",
       "      <td>1</td>\n",
       "      <td>0</td>\n",
       "      <td>0</td>\n",
       "      <td>0</td>\n",
       "      <td>0</td>\n",
       "      <td>1</td>\n",
       "      <td>1</td>\n",
       "    </tr>\n",
       "  </tbody>\n",
       "</table>\n",
       "<p>5000 rows × 14 columns</p>\n",
       "</div>"
      ],
      "text/plain": [
       "        ID  Age  Experience  Income  ZIP Code  Family  CCAvg  Education  \\\n",
       "0        1   25           1      49     91107       4    1.6          1   \n",
       "1        2   45          19      34     90089       3    1.5          1   \n",
       "2        3   39          15      11     94720       1    1.0          1   \n",
       "3        4   35           9     100     94112       1    2.7          2   \n",
       "4        5   35           8      45     91330       4    1.0          2   \n",
       "...    ...  ...         ...     ...       ...     ...    ...        ...   \n",
       "4995  4996   29           3      40     92697       1    1.9          3   \n",
       "4996  4997   30           4      15     92037       4    0.4          1   \n",
       "4997  4998   63          39      24     93023       2    0.3          3   \n",
       "4998  4999   65          40      49     90034       3    0.5          2   \n",
       "4999  5000   28           4      83     92612       3    0.8          1   \n",
       "\n",
       "      Mortgage  Personal Loan  Securities Account  CD Account  Online  \\\n",
       "0            0              0                   1           0       0   \n",
       "1            0              0                   1           0       0   \n",
       "2            0              0                   0           0       0   \n",
       "3            0              0                   0           0       0   \n",
       "4            0              0                   0           0       0   \n",
       "...        ...            ...                 ...         ...     ...   \n",
       "4995         0              0                   0           0       1   \n",
       "4996        85              0                   0           0       1   \n",
       "4997         0              0                   0           0       0   \n",
       "4998         0              0                   0           0       1   \n",
       "4999         0              0                   0           0       1   \n",
       "\n",
       "      CreditCard  \n",
       "0              0  \n",
       "1              0  \n",
       "2              0  \n",
       "3              0  \n",
       "4              1  \n",
       "...          ...  \n",
       "4995           0  \n",
       "4996           0  \n",
       "4997           0  \n",
       "4998           0  \n",
       "4999           1  \n",
       "\n",
       "[5000 rows x 14 columns]"
      ]
     },
     "execution_count": 25,
     "metadata": {},
     "output_type": "execute_result"
    }
   ],
   "source": [
    "df"
   ]
  },
  {
   "cell_type": "code",
   "execution_count": 26,
   "metadata": {},
   "outputs": [],
   "source": [
    "# CHECKING THE OUTLIERS\n",
    "columns_to_plot = ['Age','Income', 'Family', 'CCAvg', 'Education', 'Mortgage' ,'Securities Account', 'CD Account', 'Online', 'CreditCard']"
   ]
  },
  {
   "cell_type": "code",
   "execution_count": 27,
   "metadata": {},
   "outputs": [
    {
     "data": {
      "image/png": "[encoded data removed]",
      "text/plain": [
       "<Figure size 1000x800 with 1 Axes>"
      ]
     },
     "metadata": {},
     "output_type": "display_data"
    }
   ],
   "source": [
    "df[columns_to_plot].plot(kind=\"box\", figsize=(10, 8))\n",
    "plt.title(\"Box Plot for Dataset Features\")\n",
    "plt.ylabel(\"Values\")\n",
    "plt.xticks(rotation=45)  # Rotating x-axis labels for better readability\n",
    "plt.show()"
   ]
  },
  {
   "cell_type": "markdown",
   "metadata": {},
   "source": [
    "**Box Plot**\n",
    "\n",
    "\n",
    "---\n",
    "1. We can see that (Income,CCavg,Mortgage,Securities Account,CD Account) in this column some outliers are there.\n",
    "2. Income is not fixed .it is based on several factors.\n",
    "3. CCAvg is not fixed and it based on the spending behavior of the credit cardholder.\n",
    "4. Mortage is also depend on the individuals.\n",
    "5. Securities Account & CD Account having values in format of 0 & 1.\n",
    "(0:means not having account,1:means having account)\n",
    "6. I dont think so that the **outliers** are **Error** points.\n"
   ]
  },
  {
   "cell_type": "code",
   "execution_count": 28,
   "metadata": {
    "colab": {
     "base_uri": "https://localhost:8080/",
     "height": 813
    },
    "executionInfo": {
     "elapsed": 71,
     "status": "ok",
     "timestamp": 1700459311280,
     "user": {
      "displayName": "aftab khan",
      "userId": "08536307679373305907"
     },
     "user_tz": -330
    },
    "id": "jwFEAJ1EV4_x",
    "outputId": "2d89135c-ec89-4570-8eec-d26c1d55c8b1"
   },
   "outputs": [
    {
     "data": {
      "image/png": "[encoded data removed]",
      "text/plain": [
       "<Figure size 1300x800 with 2 Axes>"
      ]
     },
     "metadata": {},
     "output_type": "display_data"
    }
   ],
   "source": [
    "# VISUALIZE CORREALTION HEATMAP\n",
    "correlation_matrix = df.corr()\n",
    "plt.figure(figsize=(13,8))\n",
    "sns.heatmap(correlation_matrix,annot=True,cmap=\"coolwarm\")\n",
    "plt.title('Correlation Heatmap')\n",
    "plt.show()"
   ]
  },
  {
   "cell_type": "markdown",
   "metadata": {
    "id": "ACFSBDjTYG9m"
   },
   "source": [
    "**OBSERVATION**\n",
    "\n",
    "\n",
    "---\n",
    "\n",
    "1. **\"Experience\"** and **\"Age\"** looks like highly positively correlated with each other.We can remove one of the variable to avoid multi-collinearity problem.\n",
    "2. The other point is **\"CCavg\"** & **\"Income\"** is also correlated with each other.\n",
    "3. But **\"CCAvg\"** contains values in month & **\"Income\"** contains values in annually.\n",
    "4. we need to convert **\"CCAvg\"** in Annual."
   ]
  },
  {
   "cell_type": "markdown",
   "metadata": {},
   "source": [
    "# PREPROCESSING\n",
    "**------------------------------------------------------------------------------------------------------------------------------------------------------------------------------------------------------------------**"
   ]
  },
  {
   "cell_type": "code",
   "execution_count": 29,
   "metadata": {
    "executionInfo": {
     "elapsed": 68,
     "status": "ok",
     "timestamp": 1700459311280,
     "user": {
      "displayName": "aftab khan",
      "userId": "08536307679373305907"
     },
     "user_tz": -330
    },
    "id": "Ww57TPdax3dd"
   },
   "outputs": [],
   "source": [
    "# REPLACE \"CCAvg\" WITH ANNUAL\n",
    "df['CCAvg'] = df['CCAvg']*12"
   ]
  },
  {
   "cell_type": "code",
   "execution_count": 30,
   "metadata": {
    "colab": {
     "base_uri": "https://localhost:8080/",
     "height": 206
    },
    "executionInfo": {
     "elapsed": 68,
     "status": "ok",
     "timestamp": 1700459311280,
     "user": {
      "displayName": "aftab khan",
      "userId": "08536307679373305907"
     },
     "user_tz": -330
    },
    "id": "P_CHi6vvyGR3",
    "outputId": "8da06f77-37f5-4682-d62c-60662b094547"
   },
   "outputs": [
    {
     "data": {
      "text/html": [
       "<div>\n",
       "<style scoped>\n",
       "    .dataframe tbody tr th:only-of-type {\n",
       "        vertical-align: middle;\n",
       "    }\n",
       "\n",
       "    .dataframe tbody tr th {\n",
       "        vertical-align: top;\n",
       "    }\n",
       "\n",
       "    .dataframe thead th {\n",
       "        text-align: right;\n",
       "    }\n",
       "</style>\n",
       "<table border=\"1\" class=\"dataframe\">\n",
       "  <thead>\n",
       "    <tr style=\"text-align: right;\">\n",
       "      <th></th>\n",
       "      <th>ID</th>\n",
       "      <th>Age</th>\n",
       "      <th>Experience</th>\n",
       "      <th>Income</th>\n",
       "      <th>ZIP Code</th>\n",
       "      <th>Family</th>\n",
       "      <th>CCAvg</th>\n",
       "      <th>Education</th>\n",
       "      <th>Mortgage</th>\n",
       "      <th>Personal Loan</th>\n",
       "      <th>Securities Account</th>\n",
       "      <th>CD Account</th>\n",
       "      <th>Online</th>\n",
       "      <th>CreditCard</th>\n",
       "    </tr>\n",
       "  </thead>\n",
       "  <tbody>\n",
       "    <tr>\n",
       "      <th>0</th>\n",
       "      <td>1</td>\n",
       "      <td>25</td>\n",
       "      <td>1</td>\n",
       "      <td>49</td>\n",
       "      <td>91107</td>\n",
       "      <td>4</td>\n",
       "      <td>19.2</td>\n",
       "      <td>1</td>\n",
       "      <td>0</td>\n",
       "      <td>0</td>\n",
       "      <td>1</td>\n",
       "      <td>0</td>\n",
       "      <td>0</td>\n",
       "      <td>0</td>\n",
       "    </tr>\n",
       "    <tr>\n",
       "      <th>1</th>\n",
       "      <td>2</td>\n",
       "      <td>45</td>\n",
       "      <td>19</td>\n",
       "      <td>34</td>\n",
       "      <td>90089</td>\n",
       "      <td>3</td>\n",
       "      <td>18.0</td>\n",
       "      <td>1</td>\n",
       "      <td>0</td>\n",
       "      <td>0</td>\n",
       "      <td>1</td>\n",
       "      <td>0</td>\n",
       "      <td>0</td>\n",
       "      <td>0</td>\n",
       "    </tr>\n",
       "    <tr>\n",
       "      <th>2</th>\n",
       "      <td>3</td>\n",
       "      <td>39</td>\n",
       "      <td>15</td>\n",
       "      <td>11</td>\n",
       "      <td>94720</td>\n",
       "      <td>1</td>\n",
       "      <td>12.0</td>\n",
       "      <td>1</td>\n",
       "      <td>0</td>\n",
       "      <td>0</td>\n",
       "      <td>0</td>\n",
       "      <td>0</td>\n",
       "      <td>0</td>\n",
       "      <td>0</td>\n",
       "    </tr>\n",
       "    <tr>\n",
       "      <th>3</th>\n",
       "      <td>4</td>\n",
       "      <td>35</td>\n",
       "      <td>9</td>\n",
       "      <td>100</td>\n",
       "      <td>94112</td>\n",
       "      <td>1</td>\n",
       "      <td>32.4</td>\n",
       "      <td>2</td>\n",
       "      <td>0</td>\n",
       "      <td>0</td>\n",
       "      <td>0</td>\n",
       "      <td>0</td>\n",
       "      <td>0</td>\n",
       "      <td>0</td>\n",
       "    </tr>\n",
       "    <tr>\n",
       "      <th>4</th>\n",
       "      <td>5</td>\n",
       "      <td>35</td>\n",
       "      <td>8</td>\n",
       "      <td>45</td>\n",
       "      <td>91330</td>\n",
       "      <td>4</td>\n",
       "      <td>12.0</td>\n",
       "      <td>2</td>\n",
       "      <td>0</td>\n",
       "      <td>0</td>\n",
       "      <td>0</td>\n",
       "      <td>0</td>\n",
       "      <td>0</td>\n",
       "      <td>1</td>\n",
       "    </tr>\n",
       "  </tbody>\n",
       "</table>\n",
       "</div>"
      ],
      "text/plain": [
       "   ID  Age  Experience  Income  ZIP Code  Family  CCAvg  Education  Mortgage  \\\n",
       "0   1   25           1      49     91107       4   19.2          1         0   \n",
       "1   2   45          19      34     90089       3   18.0          1         0   \n",
       "2   3   39          15      11     94720       1   12.0          1         0   \n",
       "3   4   35           9     100     94112       1   32.4          2         0   \n",
       "4   5   35           8      45     91330       4   12.0          2         0   \n",
       "\n",
       "   Personal Loan  Securities Account  CD Account  Online  CreditCard  \n",
       "0              0                   1           0       0           0  \n",
       "1              0                   1           0       0           0  \n",
       "2              0                   0           0       0           0  \n",
       "3              0                   0           0       0           0  \n",
       "4              0                   0           0       0           1  "
      ]
     },
     "execution_count": 30,
     "metadata": {},
     "output_type": "execute_result"
    }
   ],
   "source": [
    "df.head()"
   ]
  },
  {
   "cell_type": "code",
   "execution_count": 31,
   "metadata": {},
   "outputs": [],
   "source": [
    "df.drop([\"ID\",\"ZIP Code\"],inplace=True,axis=1)"
   ]
  },
  {
   "cell_type": "markdown",
   "metadata": {},
   "source": [
    "1. ID is uniformly distributed. Therefore, ID acts as an identifier and lacks valuable information for the model.\n",
    "2. ZIP Code contains a large number of categories .\n",
    "3. Therefore, it seems it lacks much informaton for our model."
   ]
  },
  {
   "cell_type": "code",
   "execution_count": 32,
   "metadata": {},
   "outputs": [
    {
     "data": {
      "text/html": [
       "<div>\n",
       "<style scoped>\n",
       "    .dataframe tbody tr th:only-of-type {\n",
       "        vertical-align: middle;\n",
       "    }\n",
       "\n",
       "    .dataframe tbody tr th {\n",
       "        vertical-align: top;\n",
       "    }\n",
       "\n",
       "    .dataframe thead th {\n",
       "        text-align: right;\n",
       "    }\n",
       "</style>\n",
       "<table border=\"1\" class=\"dataframe\">\n",
       "  <thead>\n",
       "    <tr style=\"text-align: right;\">\n",
       "      <th></th>\n",
       "      <th>Age</th>\n",
       "      <th>Experience</th>\n",
       "      <th>Income</th>\n",
       "      <th>Family</th>\n",
       "      <th>CCAvg</th>\n",
       "      <th>Education</th>\n",
       "      <th>Mortgage</th>\n",
       "      <th>Personal Loan</th>\n",
       "      <th>Securities Account</th>\n",
       "      <th>CD Account</th>\n",
       "      <th>Online</th>\n",
       "      <th>CreditCard</th>\n",
       "    </tr>\n",
       "  </thead>\n",
       "  <tbody>\n",
       "    <tr>\n",
       "      <th>0</th>\n",
       "      <td>25</td>\n",
       "      <td>1</td>\n",
       "      <td>49</td>\n",
       "      <td>4</td>\n",
       "      <td>19.2</td>\n",
       "      <td>1</td>\n",
       "      <td>0</td>\n",
       "      <td>0</td>\n",
       "      <td>1</td>\n",
       "      <td>0</td>\n",
       "      <td>0</td>\n",
       "      <td>0</td>\n",
       "    </tr>\n",
       "    <tr>\n",
       "      <th>1</th>\n",
       "      <td>45</td>\n",
       "      <td>19</td>\n",
       "      <td>34</td>\n",
       "      <td>3</td>\n",
       "      <td>18.0</td>\n",
       "      <td>1</td>\n",
       "      <td>0</td>\n",
       "      <td>0</td>\n",
       "      <td>1</td>\n",
       "      <td>0</td>\n",
       "      <td>0</td>\n",
       "      <td>0</td>\n",
       "    </tr>\n",
       "    <tr>\n",
       "      <th>2</th>\n",
       "      <td>39</td>\n",
       "      <td>15</td>\n",
       "      <td>11</td>\n",
       "      <td>1</td>\n",
       "      <td>12.0</td>\n",
       "      <td>1</td>\n",
       "      <td>0</td>\n",
       "      <td>0</td>\n",
       "      <td>0</td>\n",
       "      <td>0</td>\n",
       "      <td>0</td>\n",
       "      <td>0</td>\n",
       "    </tr>\n",
       "    <tr>\n",
       "      <th>3</th>\n",
       "      <td>35</td>\n",
       "      <td>9</td>\n",
       "      <td>100</td>\n",
       "      <td>1</td>\n",
       "      <td>32.4</td>\n",
       "      <td>2</td>\n",
       "      <td>0</td>\n",
       "      <td>0</td>\n",
       "      <td>0</td>\n",
       "      <td>0</td>\n",
       "      <td>0</td>\n",
       "      <td>0</td>\n",
       "    </tr>\n",
       "    <tr>\n",
       "      <th>4</th>\n",
       "      <td>35</td>\n",
       "      <td>8</td>\n",
       "      <td>45</td>\n",
       "      <td>4</td>\n",
       "      <td>12.0</td>\n",
       "      <td>2</td>\n",
       "      <td>0</td>\n",
       "      <td>0</td>\n",
       "      <td>0</td>\n",
       "      <td>0</td>\n",
       "      <td>0</td>\n",
       "      <td>1</td>\n",
       "    </tr>\n",
       "  </tbody>\n",
       "</table>\n",
       "</div>"
      ],
      "text/plain": [
       "   Age  Experience  Income  Family  CCAvg  Education  Mortgage  Personal Loan  \\\n",
       "0   25           1      49       4   19.2          1         0              0   \n",
       "1   45          19      34       3   18.0          1         0              0   \n",
       "2   39          15      11       1   12.0          1         0              0   \n",
       "3   35           9     100       1   32.4          2         0              0   \n",
       "4   35           8      45       4   12.0          2         0              0   \n",
       "\n",
       "   Securities Account  CD Account  Online  CreditCard  \n",
       "0                   1           0       0           0  \n",
       "1                   1           0       0           0  \n",
       "2                   0           0       0           0  \n",
       "3                   0           0       0           0  \n",
       "4                   0           0       0           1  "
      ]
     },
     "execution_count": 32,
     "metadata": {},
     "output_type": "execute_result"
    }
   ],
   "source": [
    "df.head()"
   ]
  },
  {
   "cell_type": "code",
   "execution_count": 33,
   "metadata": {
    "executionInfo": {
     "elapsed": 68,
     "status": "ok",
     "timestamp": 1700459311281,
     "user": {
      "displayName": "aftab khan",
      "userId": "08536307679373305907"
     },
     "user_tz": -330
    },
    "id": "9oqHhMjefvZm"
   },
   "outputs": [],
   "source": [
    "df.drop(\"Experience\",inplace=True,axis=1)"
   ]
  },
  {
   "cell_type": "markdown",
   "metadata": {
    "id": "uQvDmOGghIkk"
   },
   "source": [
    "1. The dataset contains negative values for the Experience, which is unreasonable.\n",
    "2. Further in our heatmap exploration, we have found that experience has a high correlation to age and will be dropping this column so we don't necessarily have to handle negative values."
   ]
  },
  {
   "cell_type": "markdown",
   "metadata": {},
   "source": [
    "### Dividing into Independent (X) & Dependent (y) variables. "
   ]
  },
  {
   "cell_type": "code",
   "execution_count": 34,
   "metadata": {},
   "outputs": [],
   "source": [
    "# SPLITING INTO INDEPENDENT & DEPENDENT FEATURES\n",
    "X=df.drop(\"Personal Loan\",axis=1)\n",
    "y=df[\"Personal Loan\"]"
   ]
  },
  {
   "cell_type": "markdown",
   "metadata": {
    "id": "9SRg2b7I0mMd"
   },
   "source": [
    "### **Train Test Split**\n",
    "\n"
   ]
  },
  {
   "cell_type": "code",
   "execution_count": 35,
   "metadata": {
    "executionInfo": {
     "elapsed": 65,
     "status": "ok",
     "timestamp": 1700459311281,
     "user": {
      "displayName": "aftab khan",
      "userId": "08536307679373305907"
     },
     "user_tz": -330
    },
    "id": "LwZIhXwq1BMm"
   },
   "outputs": [],
   "source": [
    "X_train,X_test,y_train,y_test=train_test_split(X,y,test_size=0.2,random_state=123,stratify=y)"
   ]
  },
  {
   "cell_type": "markdown",
   "metadata": {
    "id": "Z0xpl_fu1Zem"
   },
   "source": [
    "# **Standard Scaler**\n",
    "**------------------------------------------------------------------------------------------------------------------------------------------------------------------------------------------------------------------**\n",
    "\n",
    "\n",
    "\n"
   ]
  },
  {
   "cell_type": "code",
   "execution_count": 36,
   "metadata": {},
   "outputs": [],
   "source": [
    "# CREATE A OBJECT FOR NUMERIC FEATURES\n",
    "numeric_columns=[\"Age\",\"Income\",\"CCAvg\",\"Mortgage\"]"
   ]
  },
  {
   "cell_type": "code",
   "execution_count": 37,
   "metadata": {},
   "outputs": [],
   "source": [
    "sc=StandardScaler()\n",
    "X_train[numeric_columns]=sc.fit_transform(X_train[numeric_columns])\n",
    "X_test[numeric_columns]=sc.transform(X_test[numeric_columns])"
   ]
  },
  {
   "cell_type": "code",
   "execution_count": 38,
   "metadata": {},
   "outputs": [
    {
     "data": {
      "text/html": [
       "<div>\n",
       "<style scoped>\n",
       "    .dataframe tbody tr th:only-of-type {\n",
       "        vertical-align: middle;\n",
       "    }\n",
       "\n",
       "    .dataframe tbody tr th {\n",
       "        vertical-align: top;\n",
       "    }\n",
       "\n",
       "    .dataframe thead th {\n",
       "        text-align: right;\n",
       "    }\n",
       "</style>\n",
       "<table border=\"1\" class=\"dataframe\">\n",
       "  <thead>\n",
       "    <tr style=\"text-align: right;\">\n",
       "      <th></th>\n",
       "      <th>Age</th>\n",
       "      <th>Income</th>\n",
       "      <th>Family</th>\n",
       "      <th>CCAvg</th>\n",
       "      <th>Education</th>\n",
       "      <th>Mortgage</th>\n",
       "      <th>Securities Account</th>\n",
       "      <th>CD Account</th>\n",
       "      <th>Online</th>\n",
       "      <th>CreditCard</th>\n",
       "    </tr>\n",
       "  </thead>\n",
       "  <tbody>\n",
       "    <tr>\n",
       "      <th>3115</th>\n",
       "      <td>-1.256633</td>\n",
       "      <td>0.794945</td>\n",
       "      <td>2</td>\n",
       "      <td>-0.990617</td>\n",
       "      <td>1</td>\n",
       "      <td>-0.559325</td>\n",
       "      <td>0</td>\n",
       "      <td>0</td>\n",
       "      <td>0</td>\n",
       "      <td>0</td>\n",
       "    </tr>\n",
       "    <tr>\n",
       "      <th>3261</th>\n",
       "      <td>1.641364</td>\n",
       "      <td>1.224918</td>\n",
       "      <td>1</td>\n",
       "      <td>1.048374</td>\n",
       "      <td>1</td>\n",
       "      <td>-0.559325</td>\n",
       "      <td>0</td>\n",
       "      <td>0</td>\n",
       "      <td>0</td>\n",
       "      <td>0</td>\n",
       "    </tr>\n",
       "    <tr>\n",
       "      <th>2733</th>\n",
       "      <td>0.851001</td>\n",
       "      <td>-0.043503</td>\n",
       "      <td>3</td>\n",
       "      <td>-0.933978</td>\n",
       "      <td>2</td>\n",
       "      <td>0.887982</td>\n",
       "      <td>0</td>\n",
       "      <td>0</td>\n",
       "      <td>0</td>\n",
       "      <td>0</td>\n",
       "    </tr>\n",
       "    <tr>\n",
       "      <th>1666</th>\n",
       "      <td>0.499729</td>\n",
       "      <td>2.493338</td>\n",
       "      <td>2</td>\n",
       "      <td>1.274929</td>\n",
       "      <td>2</td>\n",
       "      <td>-0.559325</td>\n",
       "      <td>0</td>\n",
       "      <td>0</td>\n",
       "      <td>1</td>\n",
       "      <td>0</td>\n",
       "    </tr>\n",
       "    <tr>\n",
       "      <th>1900</th>\n",
       "      <td>1.377910</td>\n",
       "      <td>-1.376419</td>\n",
       "      <td>4</td>\n",
       "      <td>-0.877340</td>\n",
       "      <td>2</td>\n",
       "      <td>-0.559325</td>\n",
       "      <td>0</td>\n",
       "      <td>0</td>\n",
       "      <td>1</td>\n",
       "      <td>0</td>\n",
       "    </tr>\n",
       "  </tbody>\n",
       "</table>\n",
       "</div>"
      ],
      "text/plain": [
       "           Age    Income  Family     CCAvg  Education  Mortgage  \\\n",
       "3115 -1.256633  0.794945       2 -0.990617          1 -0.559325   \n",
       "3261  1.641364  1.224918       1  1.048374          1 -0.559325   \n",
       "2733  0.851001 -0.043503       3 -0.933978          2  0.887982   \n",
       "1666  0.499729  2.493338       2  1.274929          2 -0.559325   \n",
       "1900  1.377910 -1.376419       4 -0.877340          2 -0.559325   \n",
       "\n",
       "      Securities Account  CD Account  Online  CreditCard  \n",
       "3115                   0           0       0           0  \n",
       "3261                   0           0       0           0  \n",
       "2733                   0           0       0           0  \n",
       "1666                   0           0       1           0  \n",
       "1900                   0           0       1           0  "
      ]
     },
     "execution_count": 38,
     "metadata": {},
     "output_type": "execute_result"
    }
   ],
   "source": [
    "# Ensuring that the scaling has been applied to the training data using the scaler.\n",
    "X_train.head()"
   ]
  },
  {
   "cell_type": "code",
   "execution_count": 39,
   "metadata": {},
   "outputs": [
    {
     "data": {
      "text/html": [
       "<div>\n",
       "<style scoped>\n",
       "    .dataframe tbody tr th:only-of-type {\n",
       "        vertical-align: middle;\n",
       "    }\n",
       "\n",
       "    .dataframe tbody tr th {\n",
       "        vertical-align: top;\n",
       "    }\n",
       "\n",
       "    .dataframe thead th {\n",
       "        text-align: right;\n",
       "    }\n",
       "</style>\n",
       "<table border=\"1\" class=\"dataframe\">\n",
       "  <thead>\n",
       "    <tr style=\"text-align: right;\">\n",
       "      <th></th>\n",
       "      <th>Age</th>\n",
       "      <th>Income</th>\n",
       "      <th>Family</th>\n",
       "      <th>CCAvg</th>\n",
       "      <th>Education</th>\n",
       "      <th>Mortgage</th>\n",
       "      <th>Securities Account</th>\n",
       "      <th>CD Account</th>\n",
       "      <th>Online</th>\n",
       "      <th>CreditCard</th>\n",
       "    </tr>\n",
       "  </thead>\n",
       "  <tbody>\n",
       "    <tr>\n",
       "      <th>3817</th>\n",
       "      <td>1.729182</td>\n",
       "      <td>1.418406</td>\n",
       "      <td>1</td>\n",
       "      <td>-0.594146</td>\n",
       "      <td>1</td>\n",
       "      <td>-0.559325</td>\n",
       "      <td>0</td>\n",
       "      <td>0</td>\n",
       "      <td>0</td>\n",
       "      <td>0</td>\n",
       "    </tr>\n",
       "    <tr>\n",
       "      <th>1618</th>\n",
       "      <td>-1.432269</td>\n",
       "      <td>-0.967945</td>\n",
       "      <td>3</td>\n",
       "      <td>-0.537508</td>\n",
       "      <td>1</td>\n",
       "      <td>-0.559325</td>\n",
       "      <td>0</td>\n",
       "      <td>0</td>\n",
       "      <td>1</td>\n",
       "      <td>1</td>\n",
       "    </tr>\n",
       "    <tr>\n",
       "      <th>3188</th>\n",
       "      <td>0.851001</td>\n",
       "      <td>0.343473</td>\n",
       "      <td>2</td>\n",
       "      <td>1.444845</td>\n",
       "      <td>3</td>\n",
       "      <td>-0.559325</td>\n",
       "      <td>0</td>\n",
       "      <td>0</td>\n",
       "      <td>0</td>\n",
       "      <td>1</td>\n",
       "    </tr>\n",
       "    <tr>\n",
       "      <th>4396</th>\n",
       "      <td>-1.344451</td>\n",
       "      <td>-1.290424</td>\n",
       "      <td>4</td>\n",
       "      <td>-0.820701</td>\n",
       "      <td>3</td>\n",
       "      <td>-0.559325</td>\n",
       "      <td>0</td>\n",
       "      <td>0</td>\n",
       "      <td>1</td>\n",
       "      <td>0</td>\n",
       "    </tr>\n",
       "    <tr>\n",
       "      <th>101</th>\n",
       "      <td>1.377910</td>\n",
       "      <td>-0.946446</td>\n",
       "      <td>3</td>\n",
       "      <td>-0.367592</td>\n",
       "      <td>2</td>\n",
       "      <td>-0.559325</td>\n",
       "      <td>0</td>\n",
       "      <td>0</td>\n",
       "      <td>0</td>\n",
       "      <td>0</td>\n",
       "    </tr>\n",
       "  </tbody>\n",
       "</table>\n",
       "</div>"
      ],
      "text/plain": [
       "           Age    Income  Family     CCAvg  Education  Mortgage  \\\n",
       "3817  1.729182  1.418406       1 -0.594146          1 -0.559325   \n",
       "1618 -1.432269 -0.967945       3 -0.537508          1 -0.559325   \n",
       "3188  0.851001  0.343473       2  1.444845          3 -0.559325   \n",
       "4396 -1.344451 -1.290424       4 -0.820701          3 -0.559325   \n",
       "101   1.377910 -0.946446       3 -0.367592          2 -0.559325   \n",
       "\n",
       "      Securities Account  CD Account  Online  CreditCard  \n",
       "3817                   0           0       0           0  \n",
       "1618                   0           0       1           1  \n",
       "3188                   0           0       0           1  \n",
       "4396                   0           0       1           0  \n",
       "101                    0           0       0           0  "
      ]
     },
     "execution_count": 39,
     "metadata": {},
     "output_type": "execute_result"
    }
   ],
   "source": [
    "# Ensuring that the scaling has been applied to the testing data using the scaler.\n",
    "X_test.head()"
   ]
  },
  {
   "cell_type": "markdown",
   "metadata": {
    "id": "csPsjYfgymYz"
   },
   "source": [
    "Using of Standard Scaler, we make our data more compliant to machine learning algorithms, ensuring better model performance and more reliable comparisons between different features."
   ]
  },
  {
   "cell_type": "markdown",
   "metadata": {
    "id": "JhShCqRh2EEg"
   },
   "source": [
    "# **Over sampling(SMOTE)**\n",
    "**------------------------------------------------------------------------------------------------------------------------------------------------------------------------------------------------------------------**\n",
    "\n",
    "\n"
   ]
  },
  {
   "cell_type": "code",
   "execution_count": 40,
   "metadata": {
    "executionInfo": {
     "elapsed": 64,
     "status": "ok",
     "timestamp": 1700459311281,
     "user": {
      "displayName": "aftab khan",
      "userId": "08536307679373305907"
     },
     "user_tz": -330
    },
    "id": "yScKyKDx14_Z"
   },
   "outputs": [],
   "source": [
    "os=SMOTE(random_state=123)"
   ]
  },
  {
   "cell_type": "code",
   "execution_count": 41,
   "metadata": {
    "executionInfo": {
     "elapsed": 64,
     "status": "ok",
     "timestamp": 1700459311281,
     "user": {
      "displayName": "aftab khan",
      "userId": "08536307679373305907"
     },
     "user_tz": -330
    },
    "id": "8Ja_DYSH2ktd"
   },
   "outputs": [],
   "source": [
    "X_train_os,y_train_os=os.fit_resample(X_train,y_train)"
   ]
  },
  {
   "cell_type": "code",
   "execution_count": 42,
   "metadata": {
    "colab": {
     "base_uri": "https://localhost:8080/"
    },
    "executionInfo": {
     "elapsed": 65,
     "status": "ok",
     "timestamp": 1700459311282,
     "user": {
      "displayName": "aftab khan",
      "userId": "08536307679373305907"
     },
     "user_tz": -330
    },
    "id": "Tk9AgoZv3WPo",
    "outputId": "70368a56-ac04-4e87-a2da-748cbcefd503"
   },
   "outputs": [
    {
     "data": {
      "text/plain": [
       "0    3616\n",
       "1    3616\n",
       "Name: Personal Loan, dtype: int64"
      ]
     },
     "execution_count": 42,
     "metadata": {},
     "output_type": "execute_result"
    }
   ],
   "source": [
    "# DISTRIBUTION OF TARGET VARIABLE AFTER OVER SAMPLING.\n",
    "y_train_os.value_counts()"
   ]
  },
  {
   "cell_type": "markdown",
   "metadata": {
    "id": "sq2Ai0hx0mPv"
   },
   "source": [
    "1. Over-sampling Technique used in machine learning to address the class imbalance problem, particularly in classification tasks where one class significantly outnumbers the other.\n",
    "2. This helps balance the class distribution.\n",
    "3. I am using over sampling because,we aim to improve the model's ability to recognize and generalize patterns in the minority class, resulting in a more balanced and powerful predictive model."
   ]
  },
  {
   "cell_type": "markdown",
   "metadata": {
    "id": "lSwnfUbI-x4v"
   },
   "source": [
    "# MODEL SELECTION\n",
    "\n",
    "**------------------------------------------------------------------------------------------------------------------------------------------------------------------------------------------------------------------**\n",
    "\n"
   ]
  },
  {
   "cell_type": "markdown",
   "metadata": {
    "id": "5E0FkMy7-8Ds"
   },
   "source": [
    "**logistic Regression**\n",
    "\n",
    "**----------------------------**\n",
    "\n"
   ]
  },
  {
   "cell_type": "code",
   "execution_count": 43,
   "metadata": {},
   "outputs": [
    {
     "data": {
      "text/html": [
       "<style>#sk-container-id-1 {color: black;background-color: white;}#sk-container-id-1 pre{padding: 0;}#sk-container-id-1 div.sk-toggleable {background-color: white;}#sk-container-id-1 label.sk-toggleable__label {cursor: pointer;display: block;width: 100%;margin-bottom: 0;padding: 0.3em;box-sizing: border-box;text-align: center;}#sk-container-id-1 label.sk-toggleable__label-arrow:before {content: \"▸\";float: left;margin-right: 0.25em;color: #696969;}#sk-container-id-1 label.sk-toggleable__label-arrow:hover:before {color: black;}#sk-container-id-1 div.sk-estimator:hover label.sk-toggleable__label-arrow:before {color: black;}#sk-container-id-1 div.sk-toggleable__content {max-height: 0;max-width: 0;overflow: hidden;text-align: left;background-color: #f0f8ff;}#sk-container-id-1 div.sk-toggleable__content pre {margin: 0.2em;color: black;border-radius: 0.25em;background-color: #f0f8ff;}#sk-container-id-1 input.sk-toggleable__control:checked~div.sk-toggleable__content {max-height: 200px;max-width: 100%;overflow: auto;}#sk-container-id-1 input.sk-toggleable__control:checked~label.sk-toggleable__label-arrow:before {content: \"▾\";}#sk-container-id-1 div.sk-estimator input.sk-toggleable__control:checked~label.sk-toggleable__label {background-color: #d4ebff;}#sk-container-id-1 div.sk-label input.sk-toggleable__control:checked~label.sk-toggleable__label {background-color: #d4ebff;}#sk-container-id-1 input.sk-hidden--visually {border: 0;clip: rect(1px 1px 1px 1px);clip: rect(1px, 1px, 1px, 1px);height: 1px;margin: -1px;overflow: hidden;padding: 0;position: absolute;width: 1px;}#sk-container-id-1 div.sk-estimator {font-family: monospace;background-color: #f0f8ff;border: 1px dotted black;border-radius: 0.25em;box-sizing: border-box;margin-bottom: 0.5em;}#sk-container-id-1 div.sk-estimator:hover {background-color: #d4ebff;}#sk-container-id-1 div.sk-parallel-item::after {content: \"\";width: 100%;border-bottom: 1px solid gray;flex-grow: 1;}#sk-container-id-1 div.sk-label:hover label.sk-toggleable__label {background-color: #d4ebff;}#sk-container-id-1 div.sk-serial::before {content: \"\";position: absolute;border-left: 1px solid gray;box-sizing: border-box;top: 0;bottom: 0;left: 50%;z-index: 0;}#sk-container-id-1 div.sk-serial {display: flex;flex-direction: column;align-items: center;background-color: white;padding-right: 0.2em;padding-left: 0.2em;position: relative;}#sk-container-id-1 div.sk-item {position: relative;z-index: 1;}#sk-container-id-1 div.sk-parallel {display: flex;align-items: stretch;justify-content: center;background-color: white;position: relative;}#sk-container-id-1 div.sk-item::before, #sk-container-id-1 div.sk-parallel-item::before {content: \"\";position: absolute;border-left: 1px solid gray;box-sizing: border-box;top: 0;bottom: 0;left: 50%;z-index: -1;}#sk-container-id-1 div.sk-parallel-item {display: flex;flex-direction: column;z-index: 1;position: relative;background-color: white;}#sk-container-id-1 div.sk-parallel-item:first-child::after {align-self: flex-end;width: 50%;}#sk-container-id-1 div.sk-parallel-item:last-child::after {align-self: flex-start;width: 50%;}#sk-container-id-1 div.sk-parallel-item:only-child::after {width: 0;}#sk-container-id-1 div.sk-dashed-wrapped {border: 1px dashed gray;margin: 0 0.4em 0.5em 0.4em;box-sizing: border-box;padding-bottom: 0.4em;background-color: white;}#sk-container-id-1 div.sk-label label {font-family: monospace;font-weight: bold;display: inline-block;line-height: 1.2em;}#sk-container-id-1 div.sk-label-container {text-align: center;}#sk-container-id-1 div.sk-container {/* jupyter's `normalize.less` sets `[hidden] { display: none; }` but bootstrap.min.css set `[hidden] { display: none !important; }` so we also need the `!important` here to be able to override the default hidden behavior on the sphinx rendered scikit-learn.org. See: https://github.com/scikit-learn/scikit-learn/issues/21755 */display: inline-block !important;position: relative;}#sk-container-id-1 div.sk-text-repr-fallback {display: none;}</style><div id=\"sk-container-id-1\" class=\"sk-top-container\"><div class=\"sk-text-repr-fallback\"><pre>LogisticRegression()</pre><b>In a Jupyter environment, please rerun this cell to show the HTML representation or trust the notebook. <br />On GitHub, the HTML representation is unable to render, please try loading this page with nbviewer.org.</b></div><div class=\"sk-container\" hidden><div class=\"sk-item\"><div class=\"sk-estimator sk-toggleable\"><input class=\"sk-toggleable__control sk-hidden--visually\" id=\"sk-estimator-id-1\" type=\"checkbox\" checked><label for=\"sk-estimator-id-1\" class=\"sk-toggleable__label sk-toggleable__label-arrow\">LogisticRegression</label><div class=\"sk-toggleable__content\"><pre>LogisticRegression()</pre></div></div></div></div></div>"
      ],
      "text/plain": [
       "LogisticRegression()"
      ]
     },
     "execution_count": 43,
     "metadata": {},
     "output_type": "execute_result"
    }
   ],
   "source": [
    "log=LogisticRegression()\n",
    "log.fit(X_train_os,y_train_os)"
   ]
  },
  {
   "cell_type": "code",
   "execution_count": 44,
   "metadata": {
    "executionInfo": {
     "elapsed": 62,
     "status": "ok",
     "timestamp": 1700459311282,
     "user": {
      "displayName": "aftab khan",
      "userId": "08536307679373305907"
     },
     "user_tz": -330
    },
    "id": "fIkIRd1o-4Ya"
   },
   "outputs": [
    {
     "name": "stdout",
     "output_type": "stream",
     "text": [
      "Confusion matrix:\n",
      " [[810  94]\n",
      " [ 13  83]]\n",
      "Accuracy score: 0.893\n",
      "Precision score: 0.4689265536723164\n",
      "Recall score: 0.8645833333333334\n",
      "F1 score: 0.6080586080586081\n"
     ]
    }
   ],
   "source": [
    "log_pred = log.predict(X_test)\n",
    "log_cm = confusion_matrix(y_test,log_pred)\n",
    "log_acc = accuracy_score(y_test,log_pred)\n",
    "log_prec = precision_score(y_test,log_pred)\n",
    "log_rec = recall_score(y_test,log_pred)\n",
    "log_f1 = f1_score(y_test,log_pred)\n",
    "print('Confusion matrix:\\n',log_cm)\n",
    "print('Accuracy score:',log_acc)\n",
    "print('Precision score:',log_prec)\n",
    "print('Recall score:',log_rec)\n",
    "print('F1 score:',log_f1)"
   ]
  },
  {
   "cell_type": "code",
   "execution_count": 45,
   "metadata": {
    "colab": {
     "base_uri": "https://localhost:8080/"
    },
    "executionInfo": {
     "elapsed": 54,
     "status": "ok",
     "timestamp": 1700459311282,
     "user": {
      "displayName": "aftab khan",
      "userId": "08536307679373305907"
     },
     "user_tz": -330
    },
    "id": "QWL2Fd8e_3W8",
    "outputId": "bebb7e2b-d1b1-44d3-e6fb-6d64827cb168",
    "scrolled": true
   },
   "outputs": [
    {
     "name": "stdout",
     "output_type": "stream",
     "text": [
      "              precision    recall  f1-score   support\n",
      "\n",
      "           0       0.98      0.90      0.94       904\n",
      "           1       0.47      0.86      0.61        96\n",
      "\n",
      "    accuracy                           0.89      1000\n",
      "   macro avg       0.73      0.88      0.77      1000\n",
      "weighted avg       0.93      0.89      0.91      1000\n",
      "\n"
     ]
    }
   ],
   "source": [
    "print(classification_report(y_test,log_pred))"
   ]
  },
  {
   "cell_type": "markdown",
   "metadata": {
    "id": "WRayQ8-jAF3v"
   },
   "source": [
    "**Naive Bayes**\n",
    "\n",
    "**------------------**\n",
    "\n"
   ]
  },
  {
   "cell_type": "code",
   "execution_count": 46,
   "metadata": {
    "executionInfo": {
     "elapsed": 50,
     "status": "ok",
     "timestamp": 1700459311283,
     "user": {
      "displayName": "aftab khan",
      "userId": "08536307679373305907"
     },
     "user_tz": -330
    },
    "id": "Cl2flX-jAAeG"
   },
   "outputs": [],
   "source": [
    "nb=GaussianNB()"
   ]
  },
  {
   "cell_type": "code",
   "execution_count": 47,
   "metadata": {
    "colab": {
     "base_uri": "https://localhost:8080/",
     "height": 0
    },
    "executionInfo": {
     "elapsed": 49,
     "status": "ok",
     "timestamp": 1700459311283,
     "user": {
      "displayName": "aftab khan",
      "userId": "08536307679373305907"
     },
     "user_tz": -330
    },
    "id": "Ws0xRcudAW2N",
    "outputId": "8469859e-57d6-4d4b-e7a4-5d8bfd59bb10",
    "scrolled": true
   },
   "outputs": [
    {
     "data": {
      "text/html": [
       "<style>#sk-container-id-2 {color: black;background-color: white;}#sk-container-id-2 pre{padding: 0;}#sk-container-id-2 div.sk-toggleable {background-color: white;}#sk-container-id-2 label.sk-toggleable__label {cursor: pointer;display: block;width: 100%;margin-bottom: 0;padding: 0.3em;box-sizing: border-box;text-align: center;}#sk-container-id-2 label.sk-toggleable__label-arrow:before {content: \"▸\";float: left;margin-right: 0.25em;color: #696969;}#sk-container-id-2 label.sk-toggleable__label-arrow:hover:before {color: black;}#sk-container-id-2 div.sk-estimator:hover label.sk-toggleable__label-arrow:before {color: black;}#sk-container-id-2 div.sk-toggleable__content {max-height: 0;max-width: 0;overflow: hidden;text-align: left;background-color: #f0f8ff;}#sk-container-id-2 div.sk-toggleable__content pre {margin: 0.2em;color: black;border-radius: 0.25em;background-color: #f0f8ff;}#sk-container-id-2 input.sk-toggleable__control:checked~div.sk-toggleable__content {max-height: 200px;max-width: 100%;overflow: auto;}#sk-container-id-2 input.sk-toggleable__control:checked~label.sk-toggleable__label-arrow:before {content: \"▾\";}#sk-container-id-2 div.sk-estimator input.sk-toggleable__control:checked~label.sk-toggleable__label {background-color: #d4ebff;}#sk-container-id-2 div.sk-label input.sk-toggleable__control:checked~label.sk-toggleable__label {background-color: #d4ebff;}#sk-container-id-2 input.sk-hidden--visually {border: 0;clip: rect(1px 1px 1px 1px);clip: rect(1px, 1px, 1px, 1px);height: 1px;margin: -1px;overflow: hidden;padding: 0;position: absolute;width: 1px;}#sk-container-id-2 div.sk-estimator {font-family: monospace;background-color: #f0f8ff;border: 1px dotted black;border-radius: 0.25em;box-sizing: border-box;margin-bottom: 0.5em;}#sk-container-id-2 div.sk-estimator:hover {background-color: #d4ebff;}#sk-container-id-2 div.sk-parallel-item::after {content: \"\";width: 100%;border-bottom: 1px solid gray;flex-grow: 1;}#sk-container-id-2 div.sk-label:hover label.sk-toggleable__label {background-color: #d4ebff;}#sk-container-id-2 div.sk-serial::before {content: \"\";position: absolute;border-left: 1px solid gray;box-sizing: border-box;top: 0;bottom: 0;left: 50%;z-index: 0;}#sk-container-id-2 div.sk-serial {display: flex;flex-direction: column;align-items: center;background-color: white;padding-right: 0.2em;padding-left: 0.2em;position: relative;}#sk-container-id-2 div.sk-item {position: relative;z-index: 1;}#sk-container-id-2 div.sk-parallel {display: flex;align-items: stretch;justify-content: center;background-color: white;position: relative;}#sk-container-id-2 div.sk-item::before, #sk-container-id-2 div.sk-parallel-item::before {content: \"\";position: absolute;border-left: 1px solid gray;box-sizing: border-box;top: 0;bottom: 0;left: 50%;z-index: -1;}#sk-container-id-2 div.sk-parallel-item {display: flex;flex-direction: column;z-index: 1;position: relative;background-color: white;}#sk-container-id-2 div.sk-parallel-item:first-child::after {align-self: flex-end;width: 50%;}#sk-container-id-2 div.sk-parallel-item:last-child::after {align-self: flex-start;width: 50%;}#sk-container-id-2 div.sk-parallel-item:only-child::after {width: 0;}#sk-container-id-2 div.sk-dashed-wrapped {border: 1px dashed gray;margin: 0 0.4em 0.5em 0.4em;box-sizing: border-box;padding-bottom: 0.4em;background-color: white;}#sk-container-id-2 div.sk-label label {font-family: monospace;font-weight: bold;display: inline-block;line-height: 1.2em;}#sk-container-id-2 div.sk-label-container {text-align: center;}#sk-container-id-2 div.sk-container {/* jupyter's `normalize.less` sets `[hidden] { display: none; }` but bootstrap.min.css set `[hidden] { display: none !important; }` so we also need the `!important` here to be able to override the default hidden behavior on the sphinx rendered scikit-learn.org. See: https://github.com/scikit-learn/scikit-learn/issues/21755 */display: inline-block !important;position: relative;}#sk-container-id-2 div.sk-text-repr-fallback {display: none;}</style><div id=\"sk-container-id-2\" class=\"sk-top-container\"><div class=\"sk-text-repr-fallback\"><pre>GaussianNB()</pre><b>In a Jupyter environment, please rerun this cell to show the HTML representation or trust the notebook. <br />On GitHub, the HTML representation is unable to render, please try loading this page with nbviewer.org.</b></div><div class=\"sk-container\" hidden><div class=\"sk-item\"><div class=\"sk-estimator sk-toggleable\"><input class=\"sk-toggleable__control sk-hidden--visually\" id=\"sk-estimator-id-2\" type=\"checkbox\" checked><label for=\"sk-estimator-id-2\" class=\"sk-toggleable__label sk-toggleable__label-arrow\">GaussianNB</label><div class=\"sk-toggleable__content\"><pre>GaussianNB()</pre></div></div></div></div></div>"
      ],
      "text/plain": [
       "GaussianNB()"
      ]
     },
     "execution_count": 47,
     "metadata": {},
     "output_type": "execute_result"
    }
   ],
   "source": [
    "nb.fit(X_train_os,y_train_os)"
   ]
  },
  {
   "cell_type": "code",
   "execution_count": 48,
   "metadata": {},
   "outputs": [
    {
     "name": "stdout",
     "output_type": "stream",
     "text": [
      "Confusion matrix:\n",
      " [[805  99]\n",
      " [ 18  78]]\n",
      "Accuracy score: 0.883\n",
      "Precision score: 0.4406779661016949\n",
      "Recall score: 0.8125\n",
      "F1 score: 0.5714285714285714\n"
     ]
    }
   ],
   "source": [
    "nb_pred = nb.predict(X_test)\n",
    "nb_cm = confusion_matrix(y_test,nb_pred)\n",
    "nb_acc = accuracy_score(y_test,nb_pred)\n",
    "nb_prec = precision_score(y_test,nb_pred)\n",
    "nb_rec = recall_score(y_test,nb_pred)\n",
    "nb_f1 = f1_score(y_test,nb_pred)\n",
    "print('Confusion matrix:\\n',nb_cm)\n",
    "print('Accuracy score:',nb_acc)\n",
    "print('Precision score:',nb_prec)\n",
    "print('Recall score:',nb_rec)\n",
    "print('F1 score:',nb_f1)"
   ]
  },
  {
   "cell_type": "code",
   "execution_count": 49,
   "metadata": {
    "colab": {
     "base_uri": "https://localhost:8080/"
    },
    "executionInfo": {
     "elapsed": 43,
     "status": "ok",
     "timestamp": 1700459311283,
     "user": {
      "displayName": "aftab khan",
      "userId": "08536307679373305907"
     },
     "user_tz": -330
    },
    "id": "3UhLhOeQBFla",
    "outputId": "390839ad-4672-4847-df71-2884488fb93c"
   },
   "outputs": [
    {
     "name": "stdout",
     "output_type": "stream",
     "text": [
      "              precision    recall  f1-score   support\n",
      "\n",
      "           0       0.98      0.89      0.93       904\n",
      "           1       0.44      0.81      0.57        96\n",
      "\n",
      "    accuracy                           0.88      1000\n",
      "   macro avg       0.71      0.85      0.75      1000\n",
      "weighted avg       0.93      0.88      0.90      1000\n",
      "\n"
     ]
    }
   ],
   "source": [
    "print(classification_report(y_test,nb_pred))"
   ]
  },
  {
   "cell_type": "markdown",
   "metadata": {
    "id": "SmWJwo0EDzPF"
   },
   "source": [
    "**Svm(support vector machine)**\n",
    "\n",
    "**------------------------------------------**\n",
    "\n"
   ]
  },
  {
   "cell_type": "code",
   "execution_count": 57,
   "metadata": {
    "executionInfo": {
     "elapsed": 42,
     "status": "ok",
     "timestamp": 1700459311283,
     "user": {
      "displayName": "aftab khan",
      "userId": "08536307679373305907"
     },
     "user_tz": -330
    },
    "id": "-UwD2vk0Dsnm"
   },
   "outputs": [],
   "source": [
    "sv=SVC()"
   ]
  },
  {
   "cell_type": "code",
   "execution_count": 58,
   "metadata": {
    "colab": {
     "base_uri": "https://localhost:8080/",
     "height": 75
    },
    "executionInfo": {
     "elapsed": 1820,
     "status": "ok",
     "timestamp": 1700459313061,
     "user": {
      "displayName": "aftab khan",
      "userId": "08536307679373305907"
     },
     "user_tz": -330
    },
    "id": "wt4zdIcJEW2C",
    "outputId": "045ea6b6-2cc9-4176-df0f-6229183fbcf3",
    "scrolled": true
   },
   "outputs": [
    {
     "data": {
      "text/html": [
       "<style>#sk-container-id-4 {color: black;background-color: white;}#sk-container-id-4 pre{padding: 0;}#sk-container-id-4 div.sk-toggleable {background-color: white;}#sk-container-id-4 label.sk-toggleable__label {cursor: pointer;display: block;width: 100%;margin-bottom: 0;padding: 0.3em;box-sizing: border-box;text-align: center;}#sk-container-id-4 label.sk-toggleable__label-arrow:before {content: \"▸\";float: left;margin-right: 0.25em;color: #696969;}#sk-container-id-4 label.sk-toggleable__label-arrow:hover:before {color: black;}#sk-container-id-4 div.sk-estimator:hover label.sk-toggleable__label-arrow:before {color: black;}#sk-container-id-4 div.sk-toggleable__content {max-height: 0;max-width: 0;overflow: hidden;text-align: left;background-color: #f0f8ff;}#sk-container-id-4 div.sk-toggleable__content pre {margin: 0.2em;color: black;border-radius: 0.25em;background-color: #f0f8ff;}#sk-container-id-4 input.sk-toggleable__control:checked~div.sk-toggleable__content {max-height: 200px;max-width: 100%;overflow: auto;}#sk-container-id-4 input.sk-toggleable__control:checked~label.sk-toggleable__label-arrow:before {content: \"▾\";}#sk-container-id-4 div.sk-estimator input.sk-toggleable__control:checked~label.sk-toggleable__label {background-color: #d4ebff;}#sk-container-id-4 div.sk-label input.sk-toggleable__control:checked~label.sk-toggleable__label {background-color: #d4ebff;}#sk-container-id-4 input.sk-hidden--visually {border: 0;clip: rect(1px 1px 1px 1px);clip: rect(1px, 1px, 1px, 1px);height: 1px;margin: -1px;overflow: hidden;padding: 0;position: absolute;width: 1px;}#sk-container-id-4 div.sk-estimator {font-family: monospace;background-color: #f0f8ff;border: 1px dotted black;border-radius: 0.25em;box-sizing: border-box;margin-bottom: 0.5em;}#sk-container-id-4 div.sk-estimator:hover {background-color: #d4ebff;}#sk-container-id-4 div.sk-parallel-item::after {content: \"\";width: 100%;border-bottom: 1px solid gray;flex-grow: 1;}#sk-container-id-4 div.sk-label:hover label.sk-toggleable__label {background-color: #d4ebff;}#sk-container-id-4 div.sk-serial::before {content: \"\";position: absolute;border-left: 1px solid gray;box-sizing: border-box;top: 0;bottom: 0;left: 50%;z-index: 0;}#sk-container-id-4 div.sk-serial {display: flex;flex-direction: column;align-items: center;background-color: white;padding-right: 0.2em;padding-left: 0.2em;position: relative;}#sk-container-id-4 div.sk-item {position: relative;z-index: 1;}#sk-container-id-4 div.sk-parallel {display: flex;align-items: stretch;justify-content: center;background-color: white;position: relative;}#sk-container-id-4 div.sk-item::before, #sk-container-id-4 div.sk-parallel-item::before {content: \"\";position: absolute;border-left: 1px solid gray;box-sizing: border-box;top: 0;bottom: 0;left: 50%;z-index: -1;}#sk-container-id-4 div.sk-parallel-item {display: flex;flex-direction: column;z-index: 1;position: relative;background-color: white;}#sk-container-id-4 div.sk-parallel-item:first-child::after {align-self: flex-end;width: 50%;}#sk-container-id-4 div.sk-parallel-item:last-child::after {align-self: flex-start;width: 50%;}#sk-container-id-4 div.sk-parallel-item:only-child::after {width: 0;}#sk-container-id-4 div.sk-dashed-wrapped {border: 1px dashed gray;margin: 0 0.4em 0.5em 0.4em;box-sizing: border-box;padding-bottom: 0.4em;background-color: white;}#sk-container-id-4 div.sk-label label {font-family: monospace;font-weight: bold;display: inline-block;line-height: 1.2em;}#sk-container-id-4 div.sk-label-container {text-align: center;}#sk-container-id-4 div.sk-container {/* jupyter's `normalize.less` sets `[hidden] { display: none; }` but bootstrap.min.css set `[hidden] { display: none !important; }` so we also need the `!important` here to be able to override the default hidden behavior on the sphinx rendered scikit-learn.org. See: https://github.com/scikit-learn/scikit-learn/issues/21755 */display: inline-block !important;position: relative;}#sk-container-id-4 div.sk-text-repr-fallback {display: none;}</style><div id=\"sk-container-id-4\" class=\"sk-top-container\"><div class=\"sk-text-repr-fallback\"><pre>SVC()</pre><b>In a Jupyter environment, please rerun this cell to show the HTML representation or trust the notebook. <br />On GitHub, the HTML representation is unable to render, please try loading this page with nbviewer.org.</b></div><div class=\"sk-container\" hidden><div class=\"sk-item\"><div class=\"sk-estimator sk-toggleable\"><input class=\"sk-toggleable__control sk-hidden--visually\" id=\"sk-estimator-id-4\" type=\"checkbox\" checked><label for=\"sk-estimator-id-4\" class=\"sk-toggleable__label sk-toggleable__label-arrow\">SVC</label><div class=\"sk-toggleable__content\"><pre>SVC()</pre></div></div></div></div></div>"
      ],
      "text/plain": [
       "SVC()"
      ]
     },
     "execution_count": 58,
     "metadata": {},
     "output_type": "execute_result"
    }
   ],
   "source": [
    "sv.fit(X_train_os,y_train_os)"
   ]
  },
  {
   "cell_type": "code",
   "execution_count": 59,
   "metadata": {},
   "outputs": [
    {
     "name": "stdout",
     "output_type": "stream",
     "text": [
      "Confusion matrix:\n",
      " [[872  32]\n",
      " [  5  91]]\n",
      "Accuracy score: 0.963\n",
      "Precision score: 0.7398373983739838\n",
      "Recall score: 0.9479166666666666\n",
      "F1 score: 0.8310502283105022\n"
     ]
    }
   ],
   "source": [
    "sv_pred = sv.predict(X_test)\n",
    "sv_cm = confusion_matrix(y_test,sv_pred)\n",
    "sv_acc = accuracy_score(y_test,sv_pred)\n",
    "sv_prec = precision_score(y_test,sv_pred)\n",
    "sv_rec = recall_score(y_test,sv_pred)\n",
    "sv_f1 = f1_score(y_test,sv_pred)\n",
    "print('Confusion matrix:\\n',sv_cm)\n",
    "print('Accuracy score:',sv_acc)\n",
    "print('Precision score:',sv_prec)\n",
    "print('Recall score:',sv_rec)\n",
    "print('F1 score:',sv_f1)"
   ]
  },
  {
   "cell_type": "code",
   "execution_count": 60,
   "metadata": {
    "colab": {
     "base_uri": "https://localhost:8080/"
    },
    "executionInfo": {
     "elapsed": 40,
     "status": "ok",
     "timestamp": 1700459313062,
     "user": {
      "displayName": "aftab khan",
      "userId": "08536307679373305907"
     },
     "user_tz": -330
    },
    "id": "f4787wg8E8D_",
    "outputId": "b06b2843-4595-499f-e376-fbc4a8cb616d"
   },
   "outputs": [
    {
     "name": "stdout",
     "output_type": "stream",
     "text": [
      "              precision    recall  f1-score   support\n",
      "\n",
      "           0       0.99      0.96      0.98       904\n",
      "           1       0.74      0.95      0.83        96\n",
      "\n",
      "    accuracy                           0.96      1000\n",
      "   macro avg       0.87      0.96      0.91      1000\n",
      "weighted avg       0.97      0.96      0.97      1000\n",
      "\n"
     ]
    }
   ],
   "source": [
    "print(classification_report(y_test,sv_pred))"
   ]
  },
  {
   "cell_type": "code",
   "execution_count": 61,
   "metadata": {
    "executionInfo": {
     "elapsed": 36,
     "status": "ok",
     "timestamp": 1700459313063,
     "user": {
      "displayName": "aftab khan",
      "userId": "08536307679373305907"
     },
     "user_tz": -330
    },
    "id": "Fj8M40673NHN"
   },
   "outputs": [],
   "source": [
    "final_data=pd.DataFrame({\"Models\":[\"LOGISTICS REGRESSION\",\"NAIVE BAYES\",\"SUPPORT VECTOR MACINE\"],\n",
    "                         \"Accuracy\":[accuracy_score(y_test,log_pred),\n",
    "                                    accuracy_score(y_test,nb_pred),\n",
    "                                    accuracy_score(y_test,sv_pred)],\n",
    "                         \"Precision\":[precision_score(y_test,log_pred),\n",
    "                                      precision_score(y_test,nb_pred),\n",
    "                                      precision_score(y_test,sv_pred)],\n",
    "                         \"Recall\":[recall_score(y_test,log_pred),\n",
    "                                   recall_score(y_test,nb_pred),\n",
    "                                   recall_score(y_test,sv_pred)],\n",
    "                         \"F1_score\":[f1_score(y_test,log_pred),\n",
    "                                     f1_score(y_test,nb_pred),\n",
    "                                     f1_score(y_test,sv_pred)]})"
   ]
  },
  {
   "cell_type": "code",
   "execution_count": 62,
   "metadata": {
    "colab": {
     "base_uri": "https://localhost:8080/",
     "height": 143
    },
    "executionInfo": {
     "elapsed": 35,
     "status": "ok",
     "timestamp": 1700459313063,
     "user": {
      "displayName": "aftab khan",
      "userId": "08536307679373305907"
     },
     "user_tz": -330
    },
    "id": "rI1-SE_B7FND",
    "outputId": "772805c4-133d-4e1d-9101-d1ca9935532c"
   },
   "outputs": [
    {
     "data": {
      "text/html": [
       "<div>\n",
       "<style scoped>\n",
       "    .dataframe tbody tr th:only-of-type {\n",
       "        vertical-align: middle;\n",
       "    }\n",
       "\n",
       "    .dataframe tbody tr th {\n",
       "        vertical-align: top;\n",
       "    }\n",
       "\n",
       "    .dataframe thead th {\n",
       "        text-align: right;\n",
       "    }\n",
       "</style>\n",
       "<table border=\"1\" class=\"dataframe\">\n",
       "  <thead>\n",
       "    <tr style=\"text-align: right;\">\n",
       "      <th></th>\n",
       "      <th>Models</th>\n",
       "      <th>Accuracy</th>\n",
       "      <th>Precision</th>\n",
       "      <th>Recall</th>\n",
       "      <th>F1_score</th>\n",
       "    </tr>\n",
       "  </thead>\n",
       "  <tbody>\n",
       "    <tr>\n",
       "      <th>0</th>\n",
       "      <td>LOGISTICS REGRESSION</td>\n",
       "      <td>0.893</td>\n",
       "      <td>0.468927</td>\n",
       "      <td>0.864583</td>\n",
       "      <td>0.608059</td>\n",
       "    </tr>\n",
       "    <tr>\n",
       "      <th>1</th>\n",
       "      <td>NAIVE BAYES</td>\n",
       "      <td>0.883</td>\n",
       "      <td>0.440678</td>\n",
       "      <td>0.812500</td>\n",
       "      <td>0.571429</td>\n",
       "    </tr>\n",
       "    <tr>\n",
       "      <th>2</th>\n",
       "      <td>SUPPORT VECTOR MACINE</td>\n",
       "      <td>0.963</td>\n",
       "      <td>0.739837</td>\n",
       "      <td>0.947917</td>\n",
       "      <td>0.831050</td>\n",
       "    </tr>\n",
       "  </tbody>\n",
       "</table>\n",
       "</div>"
      ],
      "text/plain": [
       "                  Models  Accuracy  Precision    Recall  F1_score\n",
       "0   LOGISTICS REGRESSION     0.893   0.468927  0.864583  0.608059\n",
       "1            NAIVE BAYES     0.883   0.440678  0.812500  0.571429\n",
       "2  SUPPORT VECTOR MACINE     0.963   0.739837  0.947917  0.831050"
      ]
     },
     "execution_count": 62,
     "metadata": {},
     "output_type": "execute_result"
    }
   ],
   "source": [
    "final_data"
   ]
  },
  {
   "cell_type": "code",
   "execution_count": 56,
   "metadata": {
    "colab": {
     "base_uri": "https://localhost:8080/",
     "height": 469
    },
    "executionInfo": {
     "elapsed": 33,
     "status": "ok",
     "timestamp": 1700459313063,
     "user": {
      "displayName": "aftab khan",
      "userId": "08536307679373305907"
     },
     "user_tz": -330
    },
    "id": "LHz_FnD37HZK",
    "outputId": "cd5417ae-2aa8-49da-a848-7dacd3f7119f"
   },
   "outputs": [
    {
     "data": {
      "text/plain": [
       "<Axes: xlabel='Models', ylabel='Recall'>"
      ]
     },
     "execution_count": 56,
     "metadata": {},
     "output_type": "execute_result"
    },
    {
     "data": {
      "image/png": "[encoded data removed]",
      "text/plain": [
       "<Figure size 640x480 with 1 Axes>"
      ]
     },
     "metadata": {},
     "output_type": "display_data"
    }
   ],
   "source": [
    "sns.barplot(x=\"Models\",y=\"Recall\",data=final_data)"
   ]
  },
  {
   "cell_type": "markdown",
   "metadata": {},
   "source": [
    "# CONCLUSION"
   ]
  },
  {
   "cell_type": "markdown",
   "metadata": {},
   "source": [
    "1. In conclusion, the analysis reveals that the dataset contains a highly imbalanced target variable, with a majority of customers (4520) not taking personal loans (0) and a smaller number (480) taking loans (1). \n",
    "2. Further exploration indicates that customers with educational backgrounds in Graduation and Professional categories are more likely to take personal loans compared to those with an Undergraduate education.\n",
    "3. Family size also plays a role, with customers from families with 3 or 4 members showing a higher tendency to take personal loans. \n",
    "4. The absence of a securities account seems to be associated with a higher likelihood of taking a personal loan, while having a Certificate of Deposit (CDAccount) is positively correlated with personal loan uptake.\n",
    "5. Additionally, customers using online banking services are more inclined to have personal loans. \n",
    "6. There is a negative trend where individuals with credit cards are less likely to take out personal loans.\n",
    "7. Addressing the imbalanced target variable, the SMOTE (Synthetic Minority Over-sampling Technique) method has been employed along with standard scaling for numeric features **(age, CCavg, mortgage, income)**. Outliers are present but are not considered as error points.\n",
    "8. Among the tested algorithms **(Logistic Regression, Naive Bayes, and Support Vector Machine)**, **SVM** outperforms others across multiple metrics, including accuracy **(96.3%)**, precision **(73.99%)**, recall **(94.79%)**, and F1 score **(83.11%)**. \n",
    "9. This suggests that **SVM** is the most suitable model for **predicting personal loan** uptake in this dataset\n",
    "\n"
   ]
  }
 ],
 "metadata": {
  "colab": {
   "authorship_tag": "ABX9TyMU3ZZdC8fFEhFdZP/4megA",
   "collapsed_sections": [
    "WRayQ8-jAF3v"
   ],
   "mount_file_id": "1L1dPpXCGDtNNlg3mee1ihvUZqo4KBjYm",
   "provenance": [],
   "toc_visible": true
  },
  "kernelspec": {
   "display_name": "Python 3 (ipykernel)",
   "language": "python",
   "name": "python3"
  },
  "language_info": {
   "codemirror_mode": {
    "name": "ipython",
    "version": 3
   },
   "file_extension": ".py",
   "mimetype": "text/x-python",
   "name": "python",
   "nbconvert_exporter": "python",
   "pygments_lexer": "ipython3",
   "version": "3.11.3"
  }
 },
 "nbformat": 4,
 "nbformat_minor": 1
}
